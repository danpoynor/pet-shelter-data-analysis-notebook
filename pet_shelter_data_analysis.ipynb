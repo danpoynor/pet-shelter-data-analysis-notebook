{
 "cells": [
  {
   "cell_type": "markdown",
   "id": "0f66afcd",
   "metadata": {},
   "source": [
    "# <span id=\"top-of-notebook\"></span>Pet Shelter Data Analysis\n",
    "\n",
    "If you're viewing a preview of this notebook file on GitHub or as a binder, the links to jump to different sections within the notebook might not work.\n",
    "\n",
    "Some sections in this notebook may not have any effect on the final analysis but are included to document steps in the process used.\n",
    "\n",
    "**Note I remove duplicate records and columns from aac_intakes.csv and aac_outcome.csv before merging the two files on their common columns. This produces some different results than I seen in other notebooks where dupes where not removed.**"
   ]
  },
  {
   "cell_type": "markdown",
   "id": "43cd9fa4-5992-43d3-8b8e-12128e690451",
   "metadata": {},
   "source": [
    "<div class=\"alert alert-block alert-info\">\n",
    "    <h2>Notebook Organization</h2>\n",
    "    <ul type=\"a\">\n",
    "      <li><a href=\"#section_a\">A. Setup and import data</a></li>\n",
    "      <li><a href=\"#section_b\">B. Initial investigatation of the data</a></li>\n",
    "      <li><a href=\"#section_c\">C. Clean the data and prepare it for analysis</a></li>\n",
    "      <li><a href=\"#section_d\">D. Analyze the data and present findings</a></li>\n",
    "    </ul>\n",
    "</div>"
   ]
  },
  {
   "cell_type": "markdown",
   "id": "692e5dbe-ba1d-49db-8918-748bde9c6741",
   "metadata": {
    "tags": []
   },
   "source": [
    "**Questions to ask before reviewing/investigating and cleaning/preparing a dataset. We should strive to understand the context behind our analysis before processing the data**\n",
    "\n",
    "* Do I know enough about the topic of the dataset?\n",
    "* Why am I working with this dataset?\n",
    "* How do I plan on using the dataset?\n",
    "* What questions do I need to answer?\n",
    "* Who will be viewing the analysis? (For example: Should measurements be in U.S. inches or metric units)"
   ]
  },
  {
   "cell_type": "markdown",
   "id": "8100ba5b-8bbe-4418-99d3-890243a7de22",
   "metadata": {},
   "source": [
    "**Assumptions Made**\n",
    "\n",
    "* Questions about animals \"in the shelter\" I've interpreted as animals \"that have ever been in the shelter\". There doesn't seem to be enough data to determine if an animal is *currently* in the shelter.\n",
    "* After reviewing a sample of the provided .csv file data, I don't think updates are needed to clean the data of the following:\n",
    "    * Handle Formatting: Misspellings, extra whitespace, differences after combining multiple datasets\n",
    "    * Handle Nonsensical Data: Data that does not make sense\n",
    "    * Handle Saturated Data: Data that is at the extremes of the measurement\n",
    "    * Handle Confidential Data: Personally identifiable information\n",
    "    * Handle Individual Errors: Errors that affect a single value\n",
    "    * andle Systematic Errors: Errors that affect all or large portions of the data\n",
    "* Data with missing, unknown, Nan, or empty values I didn't update and don't think they effect the analysis\n",
    "    * outcome_type\n",
    "    * outcome_subtype\n",
    "    * sex_upon_intake\n",
    "    * sex_upon_outcome\n",
    "    * age_upon_outcome\n",
    "* Empty 'name' values replaced with 'Unknown' - I don't think this has any effect the analysis but wanted to go through the exercise.\n",
    "* When computing adoption rates I'm getting the rate compare to total animal adoptions and not just the animals within the current group, such as dogs."
   ]
  },
  {
   "cell_type": "markdown",
   "id": "7f8dda95-f2ba-4903-90f7-438a524b9076",
   "metadata": {},
   "source": [
    "<div class=\"alert alert-block alert-info\" id=\"section_a\">\n",
    "    <h2>A. Setup and import the data</h2>\n",
    "</div>"
   ]
  },
  {
   "cell_type": "code",
   "execution_count": 516,
   "id": "a7f4cd60",
   "metadata": {
    "tags": []
   },
   "outputs": [],
   "source": [
    "import pandas as pd\n",
    "import os"
   ]
  },
  {
   "cell_type": "code",
   "execution_count": 519,
   "id": "2461363c-108a-4283-b0f5-fd81ff08e674",
   "metadata": {
    "tags": []
   },
   "outputs": [],
   "source": [
    "# Load CSV files into Pandas DataFrames\n",
    "# NOTE: I'm not using aac_intakes_outcomes.csv as part of\n",
    "# this project in order to demonstrate merging dataframes.\n",
    "\n",
    "# Using os.path.join() here in case loading files on Windows\n",
    "aac_i = pd.read_csv(os.path.join('data', 'aac_intakes.csv'), index_col=0)\n",
    "aac_o = pd.read_csv(os.path.join('data', 'aac_outcomes.csv'), index_col=0)\n",
    "# Otherwise I would load the csv files using a macOS/Linux path\n",
    "# aac_i = pd.read_csv('data/aac_intakes.csv')\n",
    "# aac_o = pd.read_csv('data/aac_outcomes.csv')\n",
    "\n",
    "# NOTE: Dates could be parsed on import, but I'm using pd.to_datetime() \n",
    "# during the data cleaning phase instead\n",
    "# docs: https://pandas.pydata.org/docs/reference/api/pandas.read_csv.html\n",
    "# aac_o = pd.read_csv('data/aac_outcomes.csv', parse_dates=['date_of_birth', 'datetime'])"
   ]
  },
  {
   "cell_type": "markdown",
   "id": "0d5e0f00-aa2a-4df6-8a98-4cb7cec9c854",
   "metadata": {},
   "source": [
    "<div style=\"text-align: right\"><a href=\"#top-of-notebook\">Back to top</a></div>"
   ]
  },
  {
   "cell_type": "markdown",
   "id": "80115aa2-6e73-415c-8bd0-038e1562e3d1",
   "metadata": {},
   "source": [
    "<div class=\"alert alert-block alert-info\" id=\"section_b\">\n",
    "    <h2>B. Initial investigatation of the data</h2>\n",
    "</div>"
   ]
  },
  {
   "cell_type": "code",
   "execution_count": 3,
   "id": "121b13e7-ebf5-4e16-907c-b071e8321459",
   "metadata": {
    "tags": []
   },
   "outputs": [
    {
     "data": {
      "text/plain": [
       "(pandas.core.frame.DataFrame, pandas.core.frame.DataFrame)"
      ]
     },
     "execution_count": 3,
     "metadata": {},
     "output_type": "execute_result"
    }
   ],
   "source": [
    "# Make sure we're working with DataFrames\n",
    "type(aac_i), type(aac_o)"
   ]
  },
  {
   "cell_type": "code",
   "execution_count": 4,
   "id": "cc17c430-9b4d-4c7c-843e-c58676b84b64",
   "metadata": {
    "tags": []
   },
   "outputs": [
    {
     "data": {
      "text/plain": [
       "((80187, 12), (80681, 12))"
      ]
     },
     "execution_count": 4,
     "metadata": {},
     "output_type": "execute_result"
    }
   ],
   "source": [
    "# Make sure the DataFrames contain rows and columns\n",
    "aac_i.shape, aac_o.shape"
   ]
  },
  {
   "cell_type": "markdown",
   "id": "d4a67746-899c-436c-8cce-d5c60d16f12b",
   "metadata": {},
   "source": [
    "### View the `head()` of each DataFrame\n",
    "\n",
    "Useful for quickly testing if an object has the right type of data in it."
   ]
  },
  {
   "cell_type": "code",
   "execution_count": 402,
   "id": "8598be2d-beee-4668-8118-7abfc8b531a5",
   "metadata": {
    "tags": []
   },
   "outputs": [
    {
     "data": {
      "text/html": [
       "<div>\n",
       "<style scoped>\n",
       "    .dataframe tbody tr th:only-of-type {\n",
       "        vertical-align: middle;\n",
       "    }\n",
       "\n",
       "    .dataframe tbody tr th {\n",
       "        vertical-align: top;\n",
       "    }\n",
       "\n",
       "    .dataframe thead th {\n",
       "        text-align: right;\n",
       "    }\n",
       "</style>\n",
       "<table border=\"1\" class=\"dataframe\">\n",
       "  <thead>\n",
       "    <tr style=\"text-align: right;\">\n",
       "      <th></th>\n",
       "      <th>age_upon_intake</th>\n",
       "      <th>animal_id</th>\n",
       "      <th>animal_type</th>\n",
       "      <th>breed</th>\n",
       "      <th>color</th>\n",
       "      <th>datetime</th>\n",
       "      <th>datetime2</th>\n",
       "      <th>found_location</th>\n",
       "      <th>intake_condition</th>\n",
       "      <th>intake_type</th>\n",
       "      <th>name</th>\n",
       "      <th>sex_upon_intake</th>\n",
       "    </tr>\n",
       "  </thead>\n",
       "  <tbody>\n",
       "    <tr>\n",
       "      <th>0</th>\n",
       "      <td>8 years</td>\n",
       "      <td>A706918</td>\n",
       "      <td>Dog</td>\n",
       "      <td>English Springer Spaniel</td>\n",
       "      <td>White/Liver</td>\n",
       "      <td>2015-07-05T12:59:00.000</td>\n",
       "      <td>2015-07-05T12:59:00.000</td>\n",
       "      <td>9409 Bluegrass Dr in Austin (TX)</td>\n",
       "      <td>Normal</td>\n",
       "      <td>Stray</td>\n",
       "      <td>Belle</td>\n",
       "      <td>Spayed Female</td>\n",
       "    </tr>\n",
       "  </tbody>\n",
       "</table>\n",
       "</div>"
      ],
      "text/plain": [
       "  age_upon_intake animal_id animal_type                     breed  \\\n",
       "0         8 years   A706918         Dog  English Springer Spaniel   \n",
       "\n",
       "         color                 datetime                datetime2  \\\n",
       "0  White/Liver  2015-07-05T12:59:00.000  2015-07-05T12:59:00.000   \n",
       "\n",
       "                     found_location intake_condition intake_type   name  \\\n",
       "0  9409 Bluegrass Dr in Austin (TX)           Normal       Stray  Belle   \n",
       "\n",
       "  sex_upon_intake  \n",
       "0   Spayed Female  "
      ]
     },
     "execution_count": 402,
     "metadata": {},
     "output_type": "execute_result"
    }
   ],
   "source": [
    "aac_i.head(1)"
   ]
  },
  {
   "cell_type": "code",
   "execution_count": 6,
   "id": "4c4b5508-2788-4650-85e9-4e1350a91a30",
   "metadata": {
    "tags": []
   },
   "outputs": [
    {
     "data": {
      "text/html": [
       "<div>\n",
       "<style scoped>\n",
       "    .dataframe tbody tr th:only-of-type {\n",
       "        vertical-align: middle;\n",
       "    }\n",
       "\n",
       "    .dataframe tbody tr th {\n",
       "        vertical-align: top;\n",
       "    }\n",
       "\n",
       "    .dataframe thead th {\n",
       "        text-align: right;\n",
       "    }\n",
       "</style>\n",
       "<table border=\"1\" class=\"dataframe\">\n",
       "  <thead>\n",
       "    <tr style=\"text-align: right;\">\n",
       "      <th></th>\n",
       "      <th>age_upon_outcome</th>\n",
       "      <th>animal_id</th>\n",
       "      <th>animal_type</th>\n",
       "      <th>breed</th>\n",
       "      <th>color</th>\n",
       "      <th>date_of_birth</th>\n",
       "      <th>datetime</th>\n",
       "      <th>monthyear</th>\n",
       "      <th>name</th>\n",
       "      <th>outcome_subtype</th>\n",
       "      <th>outcome_type</th>\n",
       "      <th>sex_upon_outcome</th>\n",
       "    </tr>\n",
       "  </thead>\n",
       "  <tbody>\n",
       "    <tr>\n",
       "      <th>0</th>\n",
       "      <td>2 weeks</td>\n",
       "      <td>A684346</td>\n",
       "      <td>Cat</td>\n",
       "      <td>Domestic Shorthair Mix</td>\n",
       "      <td>Orange Tabby</td>\n",
       "      <td>2014-07-07T00:00:00</td>\n",
       "      <td>2014-07-22T16:04:00</td>\n",
       "      <td>2014-07-22T16:04:00</td>\n",
       "      <td>NaN</td>\n",
       "      <td>Partner</td>\n",
       "      <td>Transfer</td>\n",
       "      <td>Intact Male</td>\n",
       "    </tr>\n",
       "  </tbody>\n",
       "</table>\n",
       "</div>"
      ],
      "text/plain": [
       "  age_upon_outcome animal_id animal_type                   breed  \\\n",
       "0          2 weeks   A684346         Cat  Domestic Shorthair Mix   \n",
       "\n",
       "          color        date_of_birth             datetime  \\\n",
       "0  Orange Tabby  2014-07-07T00:00:00  2014-07-22T16:04:00   \n",
       "\n",
       "             monthyear name outcome_subtype outcome_type sex_upon_outcome  \n",
       "0  2014-07-22T16:04:00  NaN         Partner     Transfer      Intact Male  "
      ]
     },
     "execution_count": 6,
     "metadata": {},
     "output_type": "execute_result"
    }
   ],
   "source": [
    "aac_o.head(1)"
   ]
  },
  {
   "cell_type": "markdown",
   "id": "2761d5f3-1149-4a81-bb74-20c6dba1ed3e",
   "metadata": {},
   "source": [
    "### View the `info()` of each DataFrame\n",
    "\n",
    "Useful to see information about a DataFrame including the index dtype and columns, non-null values and memory usage."
   ]
  },
  {
   "cell_type": "code",
   "execution_count": 7,
   "id": "672991b3-c0ff-4d2c-9166-d680912f2c2c",
   "metadata": {
    "tags": []
   },
   "outputs": [
    {
     "name": "stdout",
     "output_type": "stream",
     "text": [
      "<class 'pandas.core.frame.DataFrame'>\n",
      "RangeIndex: 80187 entries, 0 to 80186\n",
      "Data columns (total 12 columns):\n",
      " #   Column            Non-Null Count  Dtype \n",
      "---  ------            --------------  ----- \n",
      " 0   age_upon_intake   80187 non-null  object\n",
      " 1   animal_id         80187 non-null  object\n",
      " 2   animal_type       80187 non-null  object\n",
      " 3   breed             80187 non-null  object\n",
      " 4   color             80187 non-null  object\n",
      " 5   datetime          80187 non-null  object\n",
      " 6   datetime2         80187 non-null  object\n",
      " 7   found_location    80187 non-null  object\n",
      " 8   intake_condition  80187 non-null  object\n",
      " 9   intake_type       80187 non-null  object\n",
      " 10  name              55603 non-null  object\n",
      " 11  sex_upon_intake   80186 non-null  object\n",
      "dtypes: object(12)\n",
      "memory usage: 7.3+ MB\n"
     ]
    }
   ],
   "source": [
    "aac_i.info()"
   ]
  },
  {
   "cell_type": "code",
   "execution_count": 8,
   "id": "fe2adf46-2f6b-4f8e-853d-3e1a8a760bad",
   "metadata": {
    "tags": []
   },
   "outputs": [
    {
     "name": "stdout",
     "output_type": "stream",
     "text": [
      "<class 'pandas.core.frame.DataFrame'>\n",
      "RangeIndex: 80681 entries, 0 to 80680\n",
      "Data columns (total 12 columns):\n",
      " #   Column            Non-Null Count  Dtype \n",
      "---  ------            --------------  ----- \n",
      " 0   age_upon_outcome  80673 non-null  object\n",
      " 1   animal_id         80681 non-null  object\n",
      " 2   animal_type       80681 non-null  object\n",
      " 3   breed             80681 non-null  object\n",
      " 4   color             80681 non-null  object\n",
      " 5   date_of_birth     80681 non-null  object\n",
      " 6   datetime          80681 non-null  object\n",
      " 7   monthyear         80681 non-null  object\n",
      " 8   name              56116 non-null  object\n",
      " 9   outcome_subtype   36893 non-null  object\n",
      " 10  outcome_type      80667 non-null  object\n",
      " 11  sex_upon_outcome  80679 non-null  object\n",
      "dtypes: object(12)\n",
      "memory usage: 7.4+ MB\n"
     ]
    }
   ],
   "source": [
    "aac_o.info()"
   ]
  },
  {
   "cell_type": "markdown",
   "id": "b90d7d7a-150f-4d2b-bd2d-f762e6efa8e2",
   "metadata": {
    "tags": []
   },
   "source": [
    "### View the `describe()` output for each DataFrame\n",
    "\n",
    "Useful to see generated summary statistics of a Series or Dataframe. Output will vary depending on what data is provided"
   ]
  },
  {
   "cell_type": "code",
   "execution_count": 9,
   "id": "9804f334-2f1d-4c32-aed3-5c3ef6b6f7fb",
   "metadata": {
    "tags": []
   },
   "outputs": [
    {
     "data": {
      "text/html": [
       "<div>\n",
       "<style scoped>\n",
       "    .dataframe tbody tr th:only-of-type {\n",
       "        vertical-align: middle;\n",
       "    }\n",
       "\n",
       "    .dataframe tbody tr th {\n",
       "        vertical-align: top;\n",
       "    }\n",
       "\n",
       "    .dataframe thead th {\n",
       "        text-align: right;\n",
       "    }\n",
       "</style>\n",
       "<table border=\"1\" class=\"dataframe\">\n",
       "  <thead>\n",
       "    <tr style=\"text-align: right;\">\n",
       "      <th></th>\n",
       "      <th>age_upon_intake</th>\n",
       "      <th>animal_id</th>\n",
       "      <th>animal_type</th>\n",
       "      <th>breed</th>\n",
       "      <th>color</th>\n",
       "      <th>datetime</th>\n",
       "      <th>datetime2</th>\n",
       "      <th>found_location</th>\n",
       "      <th>intake_condition</th>\n",
       "      <th>intake_type</th>\n",
       "      <th>name</th>\n",
       "      <th>sex_upon_intake</th>\n",
       "    </tr>\n",
       "  </thead>\n",
       "  <tbody>\n",
       "    <tr>\n",
       "      <th>count</th>\n",
       "      <td>80187</td>\n",
       "      <td>80187</td>\n",
       "      <td>80187</td>\n",
       "      <td>80187</td>\n",
       "      <td>80187</td>\n",
       "      <td>80187</td>\n",
       "      <td>80187</td>\n",
       "      <td>80187</td>\n",
       "      <td>80187</td>\n",
       "      <td>80187</td>\n",
       "      <td>55603</td>\n",
       "      <td>80186</td>\n",
       "    </tr>\n",
       "    <tr>\n",
       "      <th>unique</th>\n",
       "      <td>46</td>\n",
       "      <td>72365</td>\n",
       "      <td>5</td>\n",
       "      <td>2166</td>\n",
       "      <td>529</td>\n",
       "      <td>57055</td>\n",
       "      <td>57055</td>\n",
       "      <td>36772</td>\n",
       "      <td>8</td>\n",
       "      <td>5</td>\n",
       "      <td>14731</td>\n",
       "      <td>5</td>\n",
       "    </tr>\n",
       "    <tr>\n",
       "      <th>top</th>\n",
       "      <td>1 year</td>\n",
       "      <td>A721033</td>\n",
       "      <td>Dog</td>\n",
       "      <td>Domestic Shorthair Mix</td>\n",
       "      <td>Black/White</td>\n",
       "      <td>2016-09-23T12:00:00.000</td>\n",
       "      <td>2016-09-23T12:00:00.000</td>\n",
       "      <td>Austin (TX)</td>\n",
       "      <td>Normal</td>\n",
       "      <td>Stray</td>\n",
       "      <td>Bella</td>\n",
       "      <td>Intact Male</td>\n",
       "    </tr>\n",
       "    <tr>\n",
       "      <th>freq</th>\n",
       "      <td>14672</td>\n",
       "      <td>13</td>\n",
       "      <td>45743</td>\n",
       "      <td>23519</td>\n",
       "      <td>8340</td>\n",
       "      <td>64</td>\n",
       "      <td>64</td>\n",
       "      <td>14443</td>\n",
       "      <td>70520</td>\n",
       "      <td>56280</td>\n",
       "      <td>357</td>\n",
       "      <td>25488</td>\n",
       "    </tr>\n",
       "  </tbody>\n",
       "</table>\n",
       "</div>"
      ],
      "text/plain": [
       "       age_upon_intake animal_id animal_type                   breed  \\\n",
       "count            80187     80187       80187                   80187   \n",
       "unique              46     72365           5                    2166   \n",
       "top             1 year   A721033         Dog  Domestic Shorthair Mix   \n",
       "freq             14672        13       45743                   23519   \n",
       "\n",
       "              color                 datetime                datetime2  \\\n",
       "count         80187                    80187                    80187   \n",
       "unique          529                    57055                    57055   \n",
       "top     Black/White  2016-09-23T12:00:00.000  2016-09-23T12:00:00.000   \n",
       "freq           8340                       64                       64   \n",
       "\n",
       "       found_location intake_condition intake_type   name sex_upon_intake  \n",
       "count           80187            80187       80187  55603           80186  \n",
       "unique          36772                8           5  14731               5  \n",
       "top       Austin (TX)           Normal       Stray  Bella     Intact Male  \n",
       "freq            14443            70520       56280    357           25488  "
      ]
     },
     "execution_count": 9,
     "metadata": {},
     "output_type": "execute_result"
    }
   ],
   "source": [
    "aac_i.describe()"
   ]
  },
  {
   "cell_type": "code",
   "execution_count": 10,
   "id": "ed451596-11d6-47ef-bddc-6379d0590c73",
   "metadata": {
    "tags": []
   },
   "outputs": [
    {
     "data": {
      "text/html": [
       "<div>\n",
       "<style scoped>\n",
       "    .dataframe tbody tr th:only-of-type {\n",
       "        vertical-align: middle;\n",
       "    }\n",
       "\n",
       "    .dataframe tbody tr th {\n",
       "        vertical-align: top;\n",
       "    }\n",
       "\n",
       "    .dataframe thead th {\n",
       "        text-align: right;\n",
       "    }\n",
       "</style>\n",
       "<table border=\"1\" class=\"dataframe\">\n",
       "  <thead>\n",
       "    <tr style=\"text-align: right;\">\n",
       "      <th></th>\n",
       "      <th>age_upon_outcome</th>\n",
       "      <th>animal_id</th>\n",
       "      <th>animal_type</th>\n",
       "      <th>breed</th>\n",
       "      <th>color</th>\n",
       "      <th>date_of_birth</th>\n",
       "      <th>datetime</th>\n",
       "      <th>monthyear</th>\n",
       "      <th>name</th>\n",
       "      <th>outcome_subtype</th>\n",
       "      <th>outcome_type</th>\n",
       "      <th>sex_upon_outcome</th>\n",
       "    </tr>\n",
       "  </thead>\n",
       "  <tbody>\n",
       "    <tr>\n",
       "      <th>count</th>\n",
       "      <td>80673</td>\n",
       "      <td>80681</td>\n",
       "      <td>80681</td>\n",
       "      <td>80681</td>\n",
       "      <td>80681</td>\n",
       "      <td>80681</td>\n",
       "      <td>80681</td>\n",
       "      <td>80681</td>\n",
       "      <td>56116</td>\n",
       "      <td>36893</td>\n",
       "      <td>80667</td>\n",
       "      <td>80679</td>\n",
       "    </tr>\n",
       "    <tr>\n",
       "      <th>unique</th>\n",
       "      <td>46</td>\n",
       "      <td>72877</td>\n",
       "      <td>5</td>\n",
       "      <td>2176</td>\n",
       "      <td>532</td>\n",
       "      <td>5956</td>\n",
       "      <td>66474</td>\n",
       "      <td>66474</td>\n",
       "      <td>14824</td>\n",
       "      <td>19</td>\n",
       "      <td>9</td>\n",
       "      <td>5</td>\n",
       "    </tr>\n",
       "    <tr>\n",
       "      <th>top</th>\n",
       "      <td>1 year</td>\n",
       "      <td>A721033</td>\n",
       "      <td>Dog</td>\n",
       "      <td>Domestic Shorthair Mix</td>\n",
       "      <td>Black/White</td>\n",
       "      <td>2015-09-01T00:00:00</td>\n",
       "      <td>2016-04-18T00:00:00</td>\n",
       "      <td>2016-04-18T00:00:00</td>\n",
       "      <td>Bella</td>\n",
       "      <td>Partner</td>\n",
       "      <td>Adoption</td>\n",
       "      <td>Neutered Male</td>\n",
       "    </tr>\n",
       "    <tr>\n",
       "      <th>freq</th>\n",
       "      <td>14911</td>\n",
       "      <td>13</td>\n",
       "      <td>45856</td>\n",
       "      <td>23821</td>\n",
       "      <td>8396</td>\n",
       "      <td>112</td>\n",
       "      <td>39</td>\n",
       "      <td>39</td>\n",
       "      <td>362</td>\n",
       "      <td>20082</td>\n",
       "      <td>34232</td>\n",
       "      <td>28702</td>\n",
       "    </tr>\n",
       "  </tbody>\n",
       "</table>\n",
       "</div>"
      ],
      "text/plain": [
       "       age_upon_outcome animal_id animal_type                   breed  \\\n",
       "count             80673     80681       80681                   80681   \n",
       "unique               46     72877           5                    2176   \n",
       "top              1 year   A721033         Dog  Domestic Shorthair Mix   \n",
       "freq              14911        13       45856                   23821   \n",
       "\n",
       "              color        date_of_birth             datetime  \\\n",
       "count         80681                80681                80681   \n",
       "unique          532                 5956                66474   \n",
       "top     Black/White  2015-09-01T00:00:00  2016-04-18T00:00:00   \n",
       "freq           8396                  112                   39   \n",
       "\n",
       "                  monthyear   name outcome_subtype outcome_type  \\\n",
       "count                 80681  56116           36893        80667   \n",
       "unique                66474  14824              19            9   \n",
       "top     2016-04-18T00:00:00  Bella         Partner     Adoption   \n",
       "freq                     39    362           20082        34232   \n",
       "\n",
       "       sex_upon_outcome  \n",
       "count             80679  \n",
       "unique                5  \n",
       "top       Neutered Male  \n",
       "freq              28702  "
      ]
     },
     "execution_count": 10,
     "metadata": {},
     "output_type": "execute_result"
    }
   ],
   "source": [
    "aac_o.describe()"
   ]
  },
  {
   "cell_type": "markdown",
   "id": "b3757be0-bf1d-4149-9124-28ddb4b8464f",
   "metadata": {
    "tags": []
   },
   "source": [
    "### View the length of each DataFrame\n",
    "\n",
    "Useful to see how many records are in a DataFrame."
   ]
  },
  {
   "cell_type": "code",
   "execution_count": 11,
   "id": "a1439336-e087-47f3-bbc3-28dd5b99ae44",
   "metadata": {
    "tags": []
   },
   "outputs": [
    {
     "data": {
      "text/plain": [
       "(80187, 80681)"
      ]
     },
     "execution_count": 11,
     "metadata": {},
     "output_type": "execute_result"
    }
   ],
   "source": [
    "len(aac_i), len(aac_o)"
   ]
  },
  {
   "cell_type": "markdown",
   "id": "db6968ad-f185-452a-9774-a42b6a674711",
   "metadata": {
    "tags": []
   },
   "source": [
    "### View the `shape()` for each DataFrame\n",
    "\n",
    "Return a tuple representing the dimensionality of a DataFrame."
   ]
  },
  {
   "cell_type": "code",
   "execution_count": 12,
   "id": "f57102e8-185d-4dfc-a5ea-bbd1d675b73a",
   "metadata": {
    "tags": []
   },
   "outputs": [
    {
     "data": {
      "text/plain": [
       "(80187, 12)"
      ]
     },
     "execution_count": 12,
     "metadata": {},
     "output_type": "execute_result"
    }
   ],
   "source": [
    "aac_i.shape"
   ]
  },
  {
   "cell_type": "code",
   "execution_count": 13,
   "id": "be1ab34c-677e-49a0-8d32-8c528cbb1ebd",
   "metadata": {
    "tags": []
   },
   "outputs": [
    {
     "data": {
      "text/plain": [
       "(80681, 12)"
      ]
     },
     "execution_count": 13,
     "metadata": {},
     "output_type": "execute_result"
    }
   ],
   "source": [
    "aac_o.shape"
   ]
  },
  {
   "cell_type": "markdown",
   "id": "09c9a0ff-05f4-4f85-a7d9-95ffcef29cdd",
   "metadata": {
    "tags": []
   },
   "source": [
    "### View the `dtypes()` for each DataFrame\n",
    "\n",
    "Returns a Series with the data type of each column"
   ]
  },
  {
   "cell_type": "code",
   "execution_count": 14,
   "id": "96d06c6e-bdae-4657-8be4-215559b16e79",
   "metadata": {
    "tags": []
   },
   "outputs": [
    {
     "data": {
      "text/plain": [
       "age_upon_intake     object\n",
       "animal_id           object\n",
       "animal_type         object\n",
       "breed               object\n",
       "color               object\n",
       "datetime            object\n",
       "datetime2           object\n",
       "found_location      object\n",
       "intake_condition    object\n",
       "intake_type         object\n",
       "name                object\n",
       "sex_upon_intake     object\n",
       "dtype: object"
      ]
     },
     "execution_count": 14,
     "metadata": {},
     "output_type": "execute_result"
    }
   ],
   "source": [
    "aac_i.dtypes"
   ]
  },
  {
   "cell_type": "code",
   "execution_count": 15,
   "id": "6037caf2-0336-46f6-ae8a-820b9100c4e3",
   "metadata": {
    "tags": []
   },
   "outputs": [
    {
     "data": {
      "text/plain": [
       "age_upon_outcome    object\n",
       "animal_id           object\n",
       "animal_type         object\n",
       "breed               object\n",
       "color               object\n",
       "date_of_birth       object\n",
       "datetime            object\n",
       "monthyear           object\n",
       "name                object\n",
       "outcome_subtype     object\n",
       "outcome_type        object\n",
       "sex_upon_outcome    object\n",
       "dtype: object"
      ]
     },
     "execution_count": 15,
     "metadata": {},
     "output_type": "execute_result"
    }
   ],
   "source": [
    "aac_o.dtypes"
   ]
  },
  {
   "cell_type": "markdown",
   "id": "0095f43a-8415-4488-aed4-9ba39788cfdf",
   "metadata": {},
   "source": [
    "<div style=\"text-align: right\"><a href=\"#top-of-notebook\">Back to top</a></div>"
   ]
  },
  {
   "cell_type": "markdown",
   "id": "3c211178-3e3e-43b1-84a3-662627f105c7",
   "metadata": {
    "tags": []
   },
   "source": [
    "<div class=\"alert alert-block alert-info\" id=\"section_c\">\n",
    "    <h2>C. Clean the data and prepare it for analysis</h2>\n",
    "    <p>Data Cleaning is the process of fixing any errors or mistakes in a dataset.</p>\n",
    "    <p>Look for bad data types. REF: <a href=\"https://teamtreehouse.com/library/preparing-data-for-analysis\">https://teamtreehouse.com/library/preparing-data-for-analysis</a></p>\n",
    "</div>"
   ]
  },
  {
   "cell_type": "markdown",
   "id": "ce5abe04-673c-4717-8960-84ed450f48e0",
   "metadata": {
    "tags": []
   },
   "source": [
    "### **Handle Duplicates**: Repeated data\n",
    "\n",
    "NOTE: pandas dataFrame constructor will automatically rename any columns with duplicate labels.\n",
    "\n",
    "[drop_duplicate() docs](https://pandas.pydata.org/docs/reference/api/pandas.DataFrame.drop_duplicates.html)\n"
   ]
  },
  {
   "cell_type": "markdown",
   "id": "2637a514-c9be-4ea1-81f6-32e44147f715",
   "metadata": {
    "tags": []
   },
   "source": [
    "#### Remove rows with duplicate values"
   ]
  },
  {
   "cell_type": "code",
   "execution_count": 16,
   "id": "01795e36-d931-4202-bba2-e6e140d15112",
   "metadata": {
    "tags": []
   },
   "outputs": [],
   "source": [
    "# By default, drop_duplicates() removes duplicate rows based on all columns.\n",
    "# Here I'm keeping the first occurrence.\n",
    "# NOTE: I'm not sure 'first' or 'last' really matters since they are duplicates.\n",
    "aac_i_deduped = aac_i.drop_duplicates(keep='first')\n",
    "aac_o_deduped = aac_o.drop_duplicates(keep='first')"
   ]
  },
  {
   "cell_type": "markdown",
   "id": "4bbbdb94-30fc-4727-bfc1-03ff72d66f5f",
   "metadata": {
    "tags": []
   },
   "source": [
    "#### Remove columns with duplicate values"
   ]
  },
  {
   "cell_type": "markdown",
   "id": "cdb7a535-575f-44e1-9e7a-49379530ca04",
   "metadata": {
    "tags": []
   },
   "source": [
    "<div class=\"alert alert-block alert-danger\">\n",
    "    <strong>NOTE: Checking for columns that have duplicate values takes a minute to run and makes my computer fan come on. Maybe too intensive if data set gets any bigger.\n",
    "\n",
    "It might be better to just eyeball the `describe()`, or `head()` inspection to check for potential duplicates.</strong>\n",
    "</div>"
   ]
  },
  {
   "cell_type": "markdown",
   "id": "1213075e-6fec-4338-b45a-051857568430",
   "metadata": {
    "tags": []
   },
   "source": [
    "The `T` property here transforms the columns into rows and the rows into columns by using the `transpose()` method ([reference](https://pandas.pydata.org/pandas-docs/version/0.25.0/reference/api/pandas.DataFrame.T.html))."
   ]
  },
  {
   "cell_type": "code",
   "execution_count": 17,
   "id": "03c3f2cd-edcd-4329-9902-d47fff447767",
   "metadata": {
    "tags": []
   },
   "outputs": [],
   "source": [
    "aac_i_deduped = aac_i_deduped.T.drop_duplicates().T\n",
    "aac_o_deduped = aac_o_deduped.T.drop_duplicates().T"
   ]
  },
  {
   "cell_type": "code",
   "execution_count": 18,
   "id": "b6141a73-1bd7-445c-a29b-a63ac10dce56",
   "metadata": {
    "tags": []
   },
   "outputs": [
    {
     "name": "stdout",
     "output_type": "stream",
     "text": [
      "\n",
      "RESULTS AFTER REMOVING DUPLICATES\n",
      "\n",
      "intake columns removed: Index(['datetime2'], dtype='object')\n",
      "outcomes columns removed: Index(['monthyear'], dtype='object')\n",
      "\n",
      "aac_i shape before: (80187, 12)\n",
      "aac_i_deduped shape: (80161, 11)\n",
      "\n",
      "aac_o shape before: (80681, 12)\n",
      "aac_o_deduped shape: (80671, 11)\n"
     ]
    }
   ],
   "source": [
    "# Check data shape before and after\n",
    "print(f'''\n",
    "RESULTS AFTER REMOVING DUPLICATES\n",
    "\\nintake columns removed: {aac_i.columns.difference(aac_i_deduped.columns)}\n",
    "outcomes columns removed: {aac_o.columns.difference(aac_o_deduped.columns)}\n",
    "\\naac_i shape before: {aac_i.shape}\n",
    "aac_i_deduped shape: {aac_i_deduped.shape}\n",
    "\\naac_o shape before: {aac_o.shape}\n",
    "aac_o_deduped shape: {aac_o_deduped.shape}''')"
   ]
  },
  {
   "cell_type": "markdown",
   "id": "561db540-95bb-4d0b-bb26-4027168d3460",
   "metadata": {
    "tags": []
   },
   "source": [
    "### **Combine the two DataFrames**\n",
    "\n",
    "Create a new dataset by using the `DataFrame.merge` method.\n",
    "\n",
    "Docs: <https://pandas.pydata.org/docs/reference/api/pandas.DataFrame.merge.html>"
   ]
  },
  {
   "cell_type": "code",
   "execution_count": 19,
   "id": "7784bd3b-6963-4d91-ac94-34abd8178561",
   "metadata": {
    "tags": []
   },
   "outputs": [],
   "source": [
    "# Here I'm calling merge on the `aac_i_deduped` dataframe, so it's considered to be the left side.\n",
    "# `aac_o_deduped` is the right side.\n",
    "# I'm using 'name', 'animal_id', 'animal_type', 'breed', 'color' columns for the join since those are in both dataframes.\n",
    "# I'm also adding '_intake', '_outcome' suffixes to resolve any column name collisions.\n",
    "combined_deduped_data = aac_i_deduped.merge(\n",
    "    aac_o_deduped,\n",
    "    left_on=['name', 'animal_id', 'animal_type', 'breed', 'color'],\n",
    "    right_on=['name', 'animal_id', 'animal_type', 'breed', 'color'],\n",
    "    suffixes=('_intake', '_outcome')\n",
    ")\n",
    "# combined_data.head(1)\n",
    "# combined_deduped_data.shape"
   ]
  },
  {
   "cell_type": "markdown",
   "id": "f78a1752-949c-4dc9-b103-76a2e658f368",
   "metadata": {
    "tags": []
   },
   "source": [
    "### **Handle Formatting**: Misspellings, extra whitespace, differences after combining multiple datasets"
   ]
  },
  {
   "cell_type": "markdown",
   "id": "523eab57-39da-48c9-9793-03459543fb24",
   "metadata": {
    "tags": []
   },
   "source": [
    "<div class=\"alert alert-block alert-warning\">\n",
    "    <p><strong>Handle Formatting Results</strong><p>\n",
    "    <p>I manually reviewed a sample of .csv file and did not notice any obvious misspelling, whitespace. <strong>Note some breed names, pet names, and street names may appear as misspelled words</strong>, for example:</p>\n",
    "    <ul>\n",
    "        <li>'Tortie' is sometimes used to indicate tortoiseshell cat color.</li>\n",
    "        <li>Names that might potentially need correcting:\n",
    "            <ul>\n",
    "                <li>\"Catahoula/Plott Hound\"v\n",
    "                <li>\"Wirehaired\"</li>\n",
    "                <li>\"Cane Corso Mix\"</li>\n",
    "                <li>\"Doberman Pinsch Mix\"</li>\n",
    "                <li>\"Catahoula\"</li>\n",
    "                <li>\"Bichon Frise Mix\"</li>\n",
    "                <li>\"Chinese Sharpei\"</li>\n",
    "                <li>\"Interparke Dr\"</li>\n",
    "                <li>\"Landseer Mix\"</li>\n",
    "                <li>\"Belgian Malinois Mix\"</li>\n",
    "                <li>\"Tonkinese Mix\"</li>\n",
    "                <li>\"Dandie Dinmont Mix\"</li>\n",
    "            </ul>\n",
    "        </li>\n",
    "    </ul>\n",
    "</div>"
   ]
  },
  {
   "cell_type": "markdown",
   "id": "07726d31-31bb-4291-b1ce-770127bedce0",
   "metadata": {},
   "source": [
    "### **Handle Missing Data**: Data labeled as unknown, Nan, or empty"
   ]
  },
  {
   "cell_type": "code",
   "execution_count": 20,
   "id": "0b95143a-b215-4250-82d8-36fb9e1f3256",
   "metadata": {
    "tags": []
   },
   "outputs": [
    {
     "data": {
      "text/plain": [
       "age_upon_intake     100096\n",
       "animal_id           100096\n",
       "animal_type         100096\n",
       "breed               100096\n",
       "color               100096\n",
       "datetime_intake     100096\n",
       "found_location      100096\n",
       "intake_condition    100096\n",
       "intake_type         100096\n",
       "name                 75148\n",
       "sex_upon_intake     100095\n",
       "age_upon_outcome    100093\n",
       "date_of_birth       100096\n",
       "datetime_outcome    100096\n",
       "outcome_subtype      39677\n",
       "outcome_type        100080\n",
       "sex_upon_outcome    100094\n",
       "dtype: int64"
      ]
     },
     "execution_count": 20,
     "metadata": {},
     "output_type": "execute_result"
    }
   ],
   "source": [
    "# Get a quick overview of how many blank values we have by using `DataFrame.count()`\n",
    "combined_deduped_data.count()"
   ]
  },
  {
   "cell_type": "code",
   "execution_count": 21,
   "id": "756db1cb-efa6-40a3-a28d-27f84e1894cc",
   "metadata": {
    "tags": []
   },
   "outputs": [
    {
     "data": {
      "text/html": [
       "<div>\n",
       "<style scoped>\n",
       "    .dataframe tbody tr th:only-of-type {\n",
       "        vertical-align: middle;\n",
       "    }\n",
       "\n",
       "    .dataframe tbody tr th {\n",
       "        vertical-align: top;\n",
       "    }\n",
       "\n",
       "    .dataframe thead th {\n",
       "        text-align: right;\n",
       "    }\n",
       "</style>\n",
       "<table border=\"1\" class=\"dataframe\">\n",
       "  <thead>\n",
       "    <tr style=\"text-align: right;\">\n",
       "      <th></th>\n",
       "      <th>age_upon_intake</th>\n",
       "      <th>animal_id</th>\n",
       "      <th>animal_type</th>\n",
       "      <th>breed</th>\n",
       "      <th>color</th>\n",
       "      <th>datetime_intake</th>\n",
       "      <th>found_location</th>\n",
       "      <th>intake_condition</th>\n",
       "      <th>intake_type</th>\n",
       "      <th>name</th>\n",
       "      <th>sex_upon_intake</th>\n",
       "      <th>age_upon_outcome</th>\n",
       "      <th>date_of_birth</th>\n",
       "      <th>datetime_outcome</th>\n",
       "      <th>outcome_subtype</th>\n",
       "      <th>outcome_type</th>\n",
       "      <th>sex_upon_outcome</th>\n",
       "    </tr>\n",
       "  </thead>\n",
       "  <tbody>\n",
       "    <tr>\n",
       "      <th>2</th>\n",
       "      <td>4 weeks</td>\n",
       "      <td>A665644</td>\n",
       "      <td>Cat</td>\n",
       "      <td>Domestic Shorthair Mix</td>\n",
       "      <td>Calico</td>\n",
       "      <td>2013-10-21T07:59:00.000</td>\n",
       "      <td>Austin (TX)</td>\n",
       "      <td>Sick</td>\n",
       "      <td>Stray</td>\n",
       "      <td>NaN</td>\n",
       "      <td>Intact Female</td>\n",
       "      <td>4 weeks</td>\n",
       "      <td>2013-09-21T00:00:00</td>\n",
       "      <td>2013-10-21T11:39:00</td>\n",
       "      <td>Partner</td>\n",
       "      <td>Transfer</td>\n",
       "      <td>Intact Female</td>\n",
       "    </tr>\n",
       "    <tr>\n",
       "      <th>10</th>\n",
       "      <td>2 years</td>\n",
       "      <td>A760053</td>\n",
       "      <td>Dog</td>\n",
       "      <td>Chihuahua Shorthair</td>\n",
       "      <td>White/Tan</td>\n",
       "      <td>2017-10-11T15:46:00.000</td>\n",
       "      <td>8800 South First Street in Austin (TX)</td>\n",
       "      <td>Normal</td>\n",
       "      <td>Stray</td>\n",
       "      <td>NaN</td>\n",
       "      <td>Intact Male</td>\n",
       "      <td>2 years</td>\n",
       "      <td>2015-10-11T00:00:00</td>\n",
       "      <td>2017-10-15T18:30:00</td>\n",
       "      <td>NaN</td>\n",
       "      <td>Adoption</td>\n",
       "      <td>Neutered Male</td>\n",
       "    </tr>\n",
       "    <tr>\n",
       "      <th>13</th>\n",
       "      <td>2 years</td>\n",
       "      <td>A743114</td>\n",
       "      <td>Cat</td>\n",
       "      <td>Domestic Shorthair Mix</td>\n",
       "      <td>Black/White</td>\n",
       "      <td>2017-02-04T10:10:00.000</td>\n",
       "      <td>208 Beaver St in Austin (TX)</td>\n",
       "      <td>Injured</td>\n",
       "      <td>Stray</td>\n",
       "      <td>NaN</td>\n",
       "      <td>Intact Female</td>\n",
       "      <td>2 years</td>\n",
       "      <td>2015-02-04T00:00:00</td>\n",
       "      <td>2017-02-04T10:48:00</td>\n",
       "      <td>Suffering</td>\n",
       "      <td>Euthanasia</td>\n",
       "      <td>Intact Female</td>\n",
       "    </tr>\n",
       "    <tr>\n",
       "      <th>18</th>\n",
       "      <td>2 months</td>\n",
       "      <td>A697950</td>\n",
       "      <td>Dog</td>\n",
       "      <td>Australian Cattle Dog/Labrador Retriever</td>\n",
       "      <td>Tan/White</td>\n",
       "      <td>2015-03-04T11:22:00.000</td>\n",
       "      <td>1501 S Fm 973 in Austin (TX)</td>\n",
       "      <td>Normal</td>\n",
       "      <td>Stray</td>\n",
       "      <td>NaN</td>\n",
       "      <td>Intact Female</td>\n",
       "      <td>2 months</td>\n",
       "      <td>2014-12-20T00:00:00</td>\n",
       "      <td>2015-03-08T18:55:00</td>\n",
       "      <td>NaN</td>\n",
       "      <td>Adoption</td>\n",
       "      <td>Spayed Female</td>\n",
       "    </tr>\n",
       "    <tr>\n",
       "      <th>21</th>\n",
       "      <td>5 months</td>\n",
       "      <td>A682230</td>\n",
       "      <td>Dog</td>\n",
       "      <td>Maltese Mix</td>\n",
       "      <td>White</td>\n",
       "      <td>2014-06-25T16:27:00.000</td>\n",
       "      <td>3737 Keats Dr in Austin (TX)</td>\n",
       "      <td>Normal</td>\n",
       "      <td>Stray</td>\n",
       "      <td>NaN</td>\n",
       "      <td>Intact Female</td>\n",
       "      <td>6 months</td>\n",
       "      <td>2013-12-25T00:00:00</td>\n",
       "      <td>2014-06-29T17:26:00</td>\n",
       "      <td>Partner</td>\n",
       "      <td>Transfer</td>\n",
       "      <td>Spayed Female</td>\n",
       "    </tr>\n",
       "  </tbody>\n",
       "</table>\n",
       "</div>"
      ],
      "text/plain": [
       "   age_upon_intake animal_id animal_type  \\\n",
       "2          4 weeks   A665644         Cat   \n",
       "10         2 years   A760053         Dog   \n",
       "13         2 years   A743114         Cat   \n",
       "18        2 months   A697950         Dog   \n",
       "21        5 months   A682230         Dog   \n",
       "\n",
       "                                       breed        color  \\\n",
       "2                     Domestic Shorthair Mix       Calico   \n",
       "10                       Chihuahua Shorthair    White/Tan   \n",
       "13                    Domestic Shorthair Mix  Black/White   \n",
       "18  Australian Cattle Dog/Labrador Retriever    Tan/White   \n",
       "21                               Maltese Mix        White   \n",
       "\n",
       "            datetime_intake                          found_location  \\\n",
       "2   2013-10-21T07:59:00.000                             Austin (TX)   \n",
       "10  2017-10-11T15:46:00.000  8800 South First Street in Austin (TX)   \n",
       "13  2017-02-04T10:10:00.000            208 Beaver St in Austin (TX)   \n",
       "18  2015-03-04T11:22:00.000            1501 S Fm 973 in Austin (TX)   \n",
       "21  2014-06-25T16:27:00.000            3737 Keats Dr in Austin (TX)   \n",
       "\n",
       "   intake_condition intake_type name sex_upon_intake age_upon_outcome  \\\n",
       "2              Sick       Stray  NaN   Intact Female          4 weeks   \n",
       "10           Normal       Stray  NaN     Intact Male          2 years   \n",
       "13          Injured       Stray  NaN   Intact Female          2 years   \n",
       "18           Normal       Stray  NaN   Intact Female         2 months   \n",
       "21           Normal       Stray  NaN   Intact Female         6 months   \n",
       "\n",
       "          date_of_birth     datetime_outcome outcome_subtype outcome_type  \\\n",
       "2   2013-09-21T00:00:00  2013-10-21T11:39:00         Partner     Transfer   \n",
       "10  2015-10-11T00:00:00  2017-10-15T18:30:00             NaN     Adoption   \n",
       "13  2015-02-04T00:00:00  2017-02-04T10:48:00       Suffering   Euthanasia   \n",
       "18  2014-12-20T00:00:00  2015-03-08T18:55:00             NaN     Adoption   \n",
       "21  2013-12-25T00:00:00  2014-06-29T17:26:00         Partner     Transfer   \n",
       "\n",
       "   sex_upon_outcome  \n",
       "2     Intact Female  \n",
       "10    Neutered Male  \n",
       "13    Intact Female  \n",
       "18    Spayed Female  \n",
       "21    Spayed Female  "
      ]
     },
     "execution_count": 21,
     "metadata": {},
     "output_type": "execute_result"
    }
   ],
   "source": [
    "# The 'name' column looks like it's missing a bunch of values.\n",
    "# View a few records where the name is missing\n",
    "combined_deduped_data[combined_deduped_data.name.isna()].head()"
   ]
  },
  {
   "cell_type": "code",
   "execution_count": 22,
   "id": "051e26b0-874e-47c6-8a7b-bd4981cecd7a",
   "metadata": {
    "tags": []
   },
   "outputs": [],
   "source": [
    "# Replace NaN values in the name column with 'Unknown'\n",
    "# Using .loc or .iloc here to be more explicit creates errors\n",
    "combined_deduped_data['name'] = combined_deduped_data['name'].fillna('Unknown')"
   ]
  },
  {
   "cell_type": "code",
   "execution_count": 23,
   "id": "3de79de5-0940-4bec-8e5a-d4d48306df39",
   "metadata": {
    "tags": []
   },
   "outputs": [
    {
     "data": {
      "text/plain": [
       "age_upon_intake     100096\n",
       "animal_id           100096\n",
       "animal_type         100096\n",
       "breed               100096\n",
       "color               100096\n",
       "datetime_intake     100096\n",
       "found_location      100096\n",
       "intake_condition    100096\n",
       "intake_type         100096\n",
       "name                100096\n",
       "sex_upon_intake     100095\n",
       "age_upon_outcome    100093\n",
       "date_of_birth       100096\n",
       "datetime_outcome    100096\n",
       "outcome_subtype      39677\n",
       "outcome_type        100080\n",
       "sex_upon_outcome    100094\n",
       "dtype: int64"
      ]
     },
     "execution_count": 23,
     "metadata": {},
     "output_type": "execute_result"
    }
   ],
   "source": [
    "# Run DataFrame.count()` again and check the name column values are no longer NaN\n",
    "combined_deduped_data.count()"
   ]
  },
  {
   "cell_type": "markdown",
   "id": "0c080974-888f-4f1c-b0e9-c41ef63c6e61",
   "metadata": {
    "tags": []
   },
   "source": [
    "### **Handle Type Issues**: Data that is a different type than expected"
   ]
  },
  {
   "cell_type": "markdown",
   "id": "f72aec1d-2579-496a-995f-91f7a88038e6",
   "metadata": {
    "tags": []
   },
   "source": [
    "#### Convert date arguments to `datetime` dtype"
   ]
  },
  {
   "cell_type": "code",
   "execution_count": 24,
   "id": "c00e67ff-5923-4f40-a4bb-d91e0d3c9216",
   "metadata": {
    "tags": []
   },
   "outputs": [
    {
     "data": {
      "text/plain": [
       "age_upon_intake     object\n",
       "animal_id           object\n",
       "animal_type         object\n",
       "breed               object\n",
       "color               object\n",
       "datetime_intake     object\n",
       "found_location      object\n",
       "intake_condition    object\n",
       "intake_type         object\n",
       "name                object\n",
       "sex_upon_intake     object\n",
       "age_upon_outcome    object\n",
       "date_of_birth       object\n",
       "datetime_outcome    object\n",
       "outcome_subtype     object\n",
       "outcome_type        object\n",
       "sex_upon_outcome    object\n",
       "dtype: object"
      ]
     },
     "execution_count": 24,
     "metadata": {},
     "output_type": "execute_result"
    }
   ],
   "source": [
    "# Review dtypes and note which look like they should be datetimes\n",
    "combined_deduped_data.dtypes"
   ]
  },
  {
   "cell_type": "code",
   "execution_count": 25,
   "id": "ce48b7bb-1c7c-4b4f-9693-42b121e089e6",
   "metadata": {
    "tags": []
   },
   "outputs": [
    {
     "data": {
      "text/plain": [
       "age_upon_intake             object\n",
       "animal_id                   object\n",
       "animal_type                 object\n",
       "breed                       object\n",
       "color                       object\n",
       "datetime_intake     datetime64[ns]\n",
       "found_location              object\n",
       "intake_condition            object\n",
       "intake_type                 object\n",
       "name                        object\n",
       "sex_upon_intake             object\n",
       "age_upon_outcome            object\n",
       "date_of_birth       datetime64[ns]\n",
       "datetime_outcome    datetime64[ns]\n",
       "outcome_subtype             object\n",
       "outcome_type                object\n",
       "sex_upon_outcome            object\n",
       "dtype: object"
      ]
     },
     "execution_count": 25,
     "metadata": {},
     "output_type": "execute_result"
    }
   ],
   "source": [
    "# Note I'm not using .loc or .iloc here because it creates errors\n",
    "combined_deduped_data['datetime_intake'] = pd.to_datetime(combined_deduped_data['datetime_intake'])\n",
    "combined_deduped_data['date_of_birth'] = pd.to_datetime(combined_deduped_data['date_of_birth'])\n",
    "combined_deduped_data['datetime_outcome'] = pd.to_datetime(combined_deduped_data['datetime_outcome'])\n",
    "# Verify column dtypes were updated\n",
    "combined_deduped_data.dtypes"
   ]
  },
  {
   "cell_type": "code",
   "execution_count": 26,
   "id": "fb693a51-a1f3-4028-bbf0-126ff2852f2e",
   "metadata": {},
   "outputs": [],
   "source": [
    "# NOTE: describe() shows a warning about datetime, but also includes some datetime stats\n",
    "# combined_deduped_data.describe()\n",
    "#\n",
    "# Using datetime_is_numeric=True shows 'min' and 'max' for dates instead of 'first' and 'last'\n",
    "# ***By default, describe(datetime_is_numeric=True) will only do an analysis of numeric columns if they exist.***\n",
    "# combined_deduped_data.describe(datetime_is_numeric=True)\n",
    "#\n",
    "# Using include='all' will include a union of attributes of each type\n",
    "# Docs: https://pandas.pydata.org/docs/reference/api/pandas.DataFrame.describe.html\n",
    "# combined_deduped_data.describe(datetime_is_numeric=True, include='all')\n",
    "#\n",
    "# Could also use describe on a Series (column) to get more focused stats.\n",
    "# combined_deduped_data['datetime_intake'].describe(datetime_is_numeric=True)"
   ]
  },
  {
   "cell_type": "markdown",
   "id": "e0f02be5-5e78-4b81-bd06-37d7410a2c0d",
   "metadata": {
    "tags": []
   },
   "source": [
    "<div class=\"alert alert-block alert-warning\">\n",
    "    <strong>Handle Type Issues Results\n",
    "    <ul>\n",
    "        <li>Column types with 'date' in the names and values that look like they should be `datetime` have been updated.</li>\n",
    "        </ul>\n",
    "    </strong>\n",
    "</div>"
   ]
  },
  {
   "cell_type": "markdown",
   "id": "725837d2-588e-4bcc-ad14-4a7591a44e34",
   "metadata": {
    "tags": []
   },
   "source": [
    "### **Handle Nonsensical Data**: Data that does not make sense"
   ]
  },
  {
   "cell_type": "markdown",
   "id": "0860a43f-c6fc-4fdb-b6ef-031d7e4458d4",
   "metadata": {
    "tags": []
   },
   "source": [
    "<div class=\"alert alert-block alert-warning\">\n",
    "After reviewing sample data from the .csv files I don't think updates are needed for nonsensical data.\n",
    "</div>"
   ]
  },
  {
   "cell_type": "markdown",
   "id": "1b6079c7-dea7-440d-bd42-77ec5bb4ec3a",
   "metadata": {
    "tags": []
   },
   "source": [
    "### **Handle Saturated Data**: Data that is at the extremes of the measurement"
   ]
  },
  {
   "cell_type": "markdown",
   "id": "42a23952-185a-4e6d-8b37-770f49367784",
   "metadata": {
    "tags": []
   },
   "source": [
    "<div class=\"alert alert-block alert-warning\">\n",
    "After reviewing sample data from the .csv files I don't think updates are needed for saturated data.\n",
    "</div>"
   ]
  },
  {
   "cell_type": "markdown",
   "id": "b2cb3033-9e6c-4c29-96ee-8bdbcfd32981",
   "metadata": {
    "tags": []
   },
   "source": [
    "### **Handle Confidential Data**: Personally identifiable information\n",
    "\n",
    "Further PII Resources:\n",
    "\n",
    "* [DOL PII](https://www.dol.gov/general/ppii)<br>\n",
    "* [EU GDPR](https://gdpr.eu/eu-gdpr-personal-data/)"
   ]
  },
  {
   "cell_type": "markdown",
   "id": "b36d59cd-9f70-409c-8bda-3ae754cc2689",
   "metadata": {
    "tags": []
   },
   "source": [
    "<div class=\"alert alert-block alert-warning\">\n",
    "After reviewing sample data from the .csv files I don't think updates are needed for confidential data.\n",
    "</div>"
   ]
  },
  {
   "cell_type": "markdown",
   "id": "4c5c468f-d31c-493c-9b10-96c43cbb1561",
   "metadata": {
    "tags": []
   },
   "source": [
    "### **Handle Individual Errors**: Errors that affect a single value"
   ]
  },
  {
   "cell_type": "markdown",
   "id": "08c72250-81b6-485f-a0f8-12c0ccfe6ff1",
   "metadata": {
    "tags": []
   },
   "source": [
    "<div class=\"alert alert-block alert-warning\">\n",
    "After reviewing sample data from the .csv files I don't think updates are needed for individual errors.\n",
    "</div>"
   ]
  },
  {
   "cell_type": "markdown",
   "id": "b5a57113-f8df-408b-99c7-75a5cbf4fea1",
   "metadata": {
    "tags": []
   },
   "source": [
    "### **Handle Systematic Errors**: Errors that affect all or large portions of the data"
   ]
  },
  {
   "cell_type": "markdown",
   "id": "ef239465-33be-40d5-bfe7-30e709c706af",
   "metadata": {
    "tags": []
   },
   "source": [
    "<div class=\"alert alert-block alert-warning\">\n",
    "After reviewing sample data from the .csv files I don't think updates are needed for systematic errors.\n",
    "</div>"
   ]
  },
  {
   "cell_type": "markdown",
   "id": "5869bc75-6dc1-47da-aaa3-deb38bc9807d",
   "metadata": {},
   "source": [
    "### **Create Additional Columns for Analysis**\n",
    "\n",
    "Here I'm creating columns for 'datetime_intake_year', 'datetime_intake_month', and 'intake_year_month' to make selecting records by year and month value easier."
   ]
  },
  {
   "cell_type": "code",
   "execution_count": 27,
   "id": "2571a50f-d499-4c28-a450-66305b3da84e",
   "metadata": {},
   "outputs": [
    {
     "data": {
      "text/html": [
       "<div>\n",
       "<style scoped>\n",
       "    .dataframe tbody tr th:only-of-type {\n",
       "        vertical-align: middle;\n",
       "    }\n",
       "\n",
       "    .dataframe tbody tr th {\n",
       "        vertical-align: top;\n",
       "    }\n",
       "\n",
       "    .dataframe thead th {\n",
       "        text-align: right;\n",
       "    }\n",
       "</style>\n",
       "<table border=\"1\" class=\"dataframe\">\n",
       "  <thead>\n",
       "    <tr style=\"text-align: right;\">\n",
       "      <th></th>\n",
       "      <th>age_upon_intake</th>\n",
       "      <th>animal_id</th>\n",
       "      <th>animal_type</th>\n",
       "      <th>breed</th>\n",
       "      <th>color</th>\n",
       "      <th>datetime_intake</th>\n",
       "      <th>found_location</th>\n",
       "      <th>intake_condition</th>\n",
       "      <th>intake_type</th>\n",
       "      <th>name</th>\n",
       "      <th>sex_upon_intake</th>\n",
       "      <th>age_upon_outcome</th>\n",
       "      <th>date_of_birth</th>\n",
       "      <th>datetime_outcome</th>\n",
       "      <th>outcome_subtype</th>\n",
       "      <th>outcome_type</th>\n",
       "      <th>sex_upon_outcome</th>\n",
       "      <th>datetime_intake_year</th>\n",
       "      <th>datetime_intake_month</th>\n",
       "      <th>intake_year_month</th>\n",
       "    </tr>\n",
       "  </thead>\n",
       "  <tbody>\n",
       "    <tr>\n",
       "      <th>0</th>\n",
       "      <td>8 years</td>\n",
       "      <td>A706918</td>\n",
       "      <td>Dog</td>\n",
       "      <td>English Springer Spaniel</td>\n",
       "      <td>White/Liver</td>\n",
       "      <td>2015-07-05 12:59:00</td>\n",
       "      <td>9409 Bluegrass Dr in Austin (TX)</td>\n",
       "      <td>Normal</td>\n",
       "      <td>Stray</td>\n",
       "      <td>Belle</td>\n",
       "      <td>Spayed Female</td>\n",
       "      <td>8 years</td>\n",
       "      <td>2007-07-05</td>\n",
       "      <td>2015-07-05 15:13:00</td>\n",
       "      <td>NaN</td>\n",
       "      <td>Return to Owner</td>\n",
       "      <td>Spayed Female</td>\n",
       "      <td>2015</td>\n",
       "      <td>7</td>\n",
       "      <td>2015-07</td>\n",
       "    </tr>\n",
       "    <tr>\n",
       "      <th>1</th>\n",
       "      <td>11 months</td>\n",
       "      <td>A724273</td>\n",
       "      <td>Dog</td>\n",
       "      <td>Basenji Mix</td>\n",
       "      <td>Sable/White</td>\n",
       "      <td>2016-04-14 18:43:00</td>\n",
       "      <td>2818 Palomino Trail in Austin (TX)</td>\n",
       "      <td>Normal</td>\n",
       "      <td>Stray</td>\n",
       "      <td>Runster</td>\n",
       "      <td>Intact Male</td>\n",
       "      <td>1 year</td>\n",
       "      <td>2015-04-17</td>\n",
       "      <td>2016-04-21 17:17:00</td>\n",
       "      <td>NaN</td>\n",
       "      <td>Return to Owner</td>\n",
       "      <td>Neutered Male</td>\n",
       "      <td>2016</td>\n",
       "      <td>4</td>\n",
       "      <td>2016-04</td>\n",
       "    </tr>\n",
       "    <tr>\n",
       "      <th>2</th>\n",
       "      <td>4 weeks</td>\n",
       "      <td>A665644</td>\n",
       "      <td>Cat</td>\n",
       "      <td>Domestic Shorthair Mix</td>\n",
       "      <td>Calico</td>\n",
       "      <td>2013-10-21 07:59:00</td>\n",
       "      <td>Austin (TX)</td>\n",
       "      <td>Sick</td>\n",
       "      <td>Stray</td>\n",
       "      <td>Unknown</td>\n",
       "      <td>Intact Female</td>\n",
       "      <td>4 weeks</td>\n",
       "      <td>2013-09-21</td>\n",
       "      <td>2013-10-21 11:39:00</td>\n",
       "      <td>Partner</td>\n",
       "      <td>Transfer</td>\n",
       "      <td>Intact Female</td>\n",
       "      <td>2013</td>\n",
       "      <td>10</td>\n",
       "      <td>2013-10</td>\n",
       "    </tr>\n",
       "    <tr>\n",
       "      <th>3</th>\n",
       "      <td>4 years</td>\n",
       "      <td>A682524</td>\n",
       "      <td>Dog</td>\n",
       "      <td>Doberman Pinsch/Australian Cattle Dog</td>\n",
       "      <td>Tan/Gray</td>\n",
       "      <td>2014-06-29 10:38:00</td>\n",
       "      <td>800 Grove Blvd in Austin (TX)</td>\n",
       "      <td>Normal</td>\n",
       "      <td>Stray</td>\n",
       "      <td>Rio</td>\n",
       "      <td>Neutered Male</td>\n",
       "      <td>4 years</td>\n",
       "      <td>2010-06-29</td>\n",
       "      <td>2014-07-02 14:16:00</td>\n",
       "      <td>NaN</td>\n",
       "      <td>Return to Owner</td>\n",
       "      <td>Neutered Male</td>\n",
       "      <td>2014</td>\n",
       "      <td>6</td>\n",
       "      <td>2014-06</td>\n",
       "    </tr>\n",
       "    <tr>\n",
       "      <th>4</th>\n",
       "      <td>2 years</td>\n",
       "      <td>A743852</td>\n",
       "      <td>Dog</td>\n",
       "      <td>Labrador Retriever Mix</td>\n",
       "      <td>Chocolate</td>\n",
       "      <td>2017-02-18 12:46:00</td>\n",
       "      <td>Austin (TX)</td>\n",
       "      <td>Normal</td>\n",
       "      <td>Owner Surrender</td>\n",
       "      <td>Odin</td>\n",
       "      <td>Neutered Male</td>\n",
       "      <td>2 years</td>\n",
       "      <td>2015-02-18</td>\n",
       "      <td>2017-02-21 17:44:00</td>\n",
       "      <td>NaN</td>\n",
       "      <td>Return to Owner</td>\n",
       "      <td>Neutered Male</td>\n",
       "      <td>2017</td>\n",
       "      <td>2</td>\n",
       "      <td>2017-02</td>\n",
       "    </tr>\n",
       "  </tbody>\n",
       "</table>\n",
       "</div>"
      ],
      "text/plain": [
       "  age_upon_intake animal_id animal_type  \\\n",
       "0         8 years   A706918         Dog   \n",
       "1       11 months   A724273         Dog   \n",
       "2         4 weeks   A665644         Cat   \n",
       "3         4 years   A682524         Dog   \n",
       "4         2 years   A743852         Dog   \n",
       "\n",
       "                                   breed        color     datetime_intake  \\\n",
       "0               English Springer Spaniel  White/Liver 2015-07-05 12:59:00   \n",
       "1                            Basenji Mix  Sable/White 2016-04-14 18:43:00   \n",
       "2                 Domestic Shorthair Mix       Calico 2013-10-21 07:59:00   \n",
       "3  Doberman Pinsch/Australian Cattle Dog     Tan/Gray 2014-06-29 10:38:00   \n",
       "4                 Labrador Retriever Mix    Chocolate 2017-02-18 12:46:00   \n",
       "\n",
       "                       found_location intake_condition      intake_type  \\\n",
       "0    9409 Bluegrass Dr in Austin (TX)           Normal            Stray   \n",
       "1  2818 Palomino Trail in Austin (TX)           Normal            Stray   \n",
       "2                         Austin (TX)             Sick            Stray   \n",
       "3       800 Grove Blvd in Austin (TX)           Normal            Stray   \n",
       "4                         Austin (TX)           Normal  Owner Surrender   \n",
       "\n",
       "      name sex_upon_intake age_upon_outcome date_of_birth    datetime_outcome  \\\n",
       "0    Belle   Spayed Female          8 years    2007-07-05 2015-07-05 15:13:00   \n",
       "1  Runster     Intact Male           1 year    2015-04-17 2016-04-21 17:17:00   \n",
       "2  Unknown   Intact Female          4 weeks    2013-09-21 2013-10-21 11:39:00   \n",
       "3      Rio   Neutered Male          4 years    2010-06-29 2014-07-02 14:16:00   \n",
       "4     Odin   Neutered Male          2 years    2015-02-18 2017-02-21 17:44:00   \n",
       "\n",
       "  outcome_subtype     outcome_type sex_upon_outcome  datetime_intake_year  \\\n",
       "0             NaN  Return to Owner    Spayed Female                  2015   \n",
       "1             NaN  Return to Owner    Neutered Male                  2016   \n",
       "2         Partner         Transfer    Intact Female                  2013   \n",
       "3             NaN  Return to Owner    Neutered Male                  2014   \n",
       "4             NaN  Return to Owner    Neutered Male                  2017   \n",
       "\n",
       "   datetime_intake_month intake_year_month  \n",
       "0                      7           2015-07  \n",
       "1                      4           2016-04  \n",
       "2                     10           2013-10  \n",
       "3                      6           2014-06  \n",
       "4                      2           2017-02  "
      ]
     },
     "execution_count": 27,
     "metadata": {},
     "output_type": "execute_result"
    }
   ],
   "source": [
    "# Note I'm not using .loc or .iloc here because it creates errors\n",
    "combined_deduped_data['datetime_intake_year'] = combined_deduped_data['datetime_intake'].dt.year\n",
    "# Alternate way to create year column, if ever needed for some reason\n",
    "# combined_deduped_data['datetime_intake_year'] = pd.DatetimeIndex(combined_deduped_data['datetime_intake']).year\n",
    "combined_deduped_data['datetime_intake_month'] = combined_deduped_data['datetime_intake'].dt.month\n",
    "combined_deduped_data['intake_year_month'] = pd.to_datetime(combined_deduped_data['datetime_intake']).dt.to_period('M')\n",
    "# Check the result\n",
    "combined_deduped_data.head()"
   ]
  },
  {
   "cell_type": "markdown",
   "id": "82ab9e40-f972-43fb-90b2-e3a7bde6447d",
   "metadata": {},
   "source": [
    "<div style=\"text-align: right\"><a href=\"#top-of-notebook\">Back to top</a></div>"
   ]
  },
  {
   "cell_type": "markdown",
   "id": "1d05e63d-5d18-4c59-8de0-b4838c56d161",
   "metadata": {},
   "source": [
    "---"
   ]
  },
  {
   "cell_type": "markdown",
   "id": "05aab3f4-6161-45c1-8847-83fe17ea9704",
   "metadata": {},
   "source": [
    "<div class=\"alert alert-block alert-info\" id=\"section_d\">\n",
    "    <h2>D. Analyze the data and present findings</h2>\n",
    "</div>"
   ]
  },
  {
   "cell_type": "markdown",
   "id": "00590e90-a3b5-4a8a-acc9-8cbd72624eb8",
   "metadata": {},
   "source": [
    "#### Questions"
   ]
  },
  {
   "cell_type": "markdown",
   "id": "73cdbd5e-6a5c-4e12-b5f9-2f50640bdbaf",
   "metadata": {},
   "source": [
    "---"
   ]
  },
  {
   "cell_type": "markdown",
   "id": "348b34e8-7655-458d-b6bd-2b96b7d558c5",
   "metadata": {
    "tags": []
   },
   "source": [
    "#### 1. Is there an area where more pets are found?\n",
    "\n",
    "Find the top 5 places where animals are found so the shelter can coordinate with local volunteers and animal control to monitor these areas.\n",
    "\n",
    "Hint: Try to group the found locations together."
   ]
  },
  {
   "cell_type": "code",
   "execution_count": 378,
   "id": "9dfc94e3-f48f-4543-9631-053539d24a28",
   "metadata": {
    "tags": []
   },
   "outputs": [
    {
     "name": "stdout",
     "output_type": "stream",
     "text": [
      "FINAL ANSWER:\n",
      "found_location\n",
      "Austin (TX)                          20075\n",
      "Outside Jurisdiction                  1595\n",
      "Travis (TX)                           1168\n",
      "7201 Levander Loop in Austin (TX)      605\n",
      "Del Valle (TX)                         512\n",
      "dtype: int64\n",
      "\n",
      "The area where more pets are found is 'Austin (TX)'\n"
     ]
    }
   ],
   "source": [
    "# Group by the found_location values, get size of each location, then sort by the size values.\n",
    "# head() will return top values 5 by default.\n",
    "q1_result = combined_deduped_data.groupby('found_location').size().sort_values(ascending=False).head()\n",
    "#\n",
    "# NOTE: describe() also shows the `top` value for `found_location` \n",
    "# and the number of times the value occurs as `freq`.\n",
    "# combined_deduped_data.describe(datetime_is_numeric=True, include='all')\n",
    "#\n",
    "print(f\"FINAL ANSWER:\\n{q1_result}\\n\\nThe area where more pets are found is '{q1_result.index[0]}'\")"
   ]
  },
  {
   "cell_type": "markdown",
   "id": "7bc9dd9d-eb82-46f7-b200-84555e088e9a",
   "metadata": {
    "tags": []
   },
   "source": [
    "#### 2. What is the average number of pets found in a month in the year 2015? Are there months when a higher number of animals are found?\n",
    "\n",
    "Knowing the number of pets the shelter might see in a month can help them gather enough resources and donations to care for the animals they receive."
   ]
  },
  {
   "cell_type": "code",
   "execution_count": 472,
   "id": "fcc48395-7872-4f3c-9941-bc642c45e034",
   "metadata": {
    "tags": []
   },
   "outputs": [
    {
     "name": "stdout",
     "output_type": "stream",
     "text": [
      "datetime_intake_month\n",
      "6     2650\n",
      "5     2605\n",
      "10    2137\n",
      "8     2083\n",
      "7     2028\n",
      "9     1963\n",
      "4     1940\n",
      "11    1861\n",
      "3     1697\n",
      "12    1555\n",
      "1     1552\n",
      "2     1467\n",
      "dtype: int64\n",
      "\n",
      "FINAL ANSWER:\n",
      "2015 monthly average: 1961.5.\n",
      "June (6) and May (5) are months when highest number of animals are found.\n"
     ]
    }
   ],
   "source": [
    "# Create a boolean series using a vectorized comparison.\n",
    "# This will be used to select a subset of the data.\n",
    "year_2015_index = combined_deduped_data.datetime_intake_year == 2015\n",
    "# To check result uncomment next line\n",
    "# year_2015_index.head()\n",
    "\n",
    "# Using the boolean series to retrieve all rows where that comparison was True.\n",
    "# To check result uncomment next line and comment out any below it.\n",
    "# Check that all the datetime_intake and datetime_intake_year \n",
    "# values are for 2015\n",
    "# combined_deduped_data[year_2015_index].head()\n",
    "\n",
    "# Now - group the 2015 intakes by month\n",
    "# Using .loc here to make the statement a little more explicit\n",
    "monthly_2015 = combined_deduped_data.loc[year_2015_index].groupby('datetime_intake_month').size().sort_values(ascending=False)\n",
    "\n",
    "# Get the average per month in 2015\n",
    "q2_result = monthly_2015.mean()\n",
    "\n",
    "print(f'''{monthly_2015}\n",
    "\\nFINAL ANSWER:\n",
    "2015 monthly average: {q2_result}.\n",
    "June (6) and May (5) are months when highest number of animals are found.''')"
   ]
  },
  {
   "cell_type": "code",
   "execution_count": 359,
   "id": "741557ac-d4b2-40cf-b314-ed83644a964d",
   "metadata": {
    "tags": []
   },
   "outputs": [
    {
     "data": {
      "image/png": "[encoded data removed]",
      "text/plain": [
       "<Figure size 864x432 with 1 Axes>"
      ]
     },
     "metadata": {
      "needs_background": "light"
     },
     "output_type": "display_data"
    }
   ],
   "source": [
    "# Plot the findings to make the months with higher and lower intakes more obvious.\n",
    "chrt = monthly_2015.plot(kind='line', figsize=(12, 6), color=\"#0d47a1\", use_index=True, lw=3)\n",
    "chrt.set_title('2015 Animal Intake Per Month', fontsize=15, fontweight=\"bold\")\n",
    "chrt.set_xlabel('Months', fontsize=16)\n",
    "chrt.set_ylabel('Number of Intakes', fontsize=15)\n",
    "chrt.set_xticks([1, 2, 3, 4, 5, 6, 7, 8, 9, 10, 11, 12]) # Need to avoid FixedFormatter warning\n",
    "xlabels = [\"Jan\", \"Feb\", \"Mar\", \"Apr\", \"May\", \"Jun\", \"Jul\", \"Aug\", \"Sept\", \"Oct\", \"Nov\", \"Dec\"]\n",
    "chrt.set_xticklabels(xlabels)\n",
    "chrt.tick_params(colors='#1976d2', which='both', direction='inout', length=6, width=\"3\", labelsize=\"12\")\n",
    "chrt.grid(True, ls=\"dashed\", lw=\".75\")\n",
    "chrt.set_facecolor('#e3f2fd')"
   ]
  },
  {
   "cell_type": "markdown",
   "id": "f2200fac-ee19-432d-aa13-3f150bd35e0b",
   "metadata": {
    "tags": []
   },
   "source": [
    "#### 3. What is the ratio of incoming pets vs. adopted pets?\n",
    "\n",
    "This key metric helps the shelter know how they are doing."
   ]
  },
  {
   "cell_type": "code",
   "execution_count": 495,
   "id": "be94d9e2-95d4-429c-97e0-53e61fffb28b",
   "metadata": {
    "tags": []
   },
   "outputs": [
    {
     "name": "stdout",
     "output_type": "stream",
     "text": [
      "FINAL ANSWER:\n",
      "The ratio of pet adoptions to total pets is 43254 : 100096, or roughly 43 in 100.\n",
      "The rate is 43254 pet adoptions per 100096 pets, or 43%\n"
     ]
    }
   ],
   "source": [
    "# To get the ratio (percentage) divide the total number of intakes by the total number of adoptions\n",
    "\n",
    "# Reference defining Rates and Ratios:\n",
    "# https://www.varsitytutors.com/hotmath/hotmath_help/topics/rates-ratios\n",
    "# A ratio is a comparison of two numbers. A ratio can be written using a colon, 3:5, or as a fraction.\n",
    "# A rate, by contrast, is a comparison of two quantities which can have different units. \n",
    "# For example 5 miles per 3 hours is a rate, as is 34 dollars per square foot.\n",
    "\n",
    "# All the animals are intakes, so use the length of the entire dataset\n",
    "number_of_intakes = len(combined_deduped_data)\n",
    "\n",
    "# Use an inline boolean Series to select the animals with Adoption outcomes and get the length\n",
    "number_of_adoptions = len(combined_deduped_data.loc[combined_deduped_data.outcome_type == \"Adoption\"])\n",
    "\n",
    "# Calculate the ratio\n",
    "ratio_incoming_vs_adopted = number_of_adoptions / number_of_intakes\n",
    "\n",
    "print(f'''FINAL ANSWER:\n",
    "The ratio of pet adoptions to total pets is {number_of_adoptions} : {number_of_intakes}, or roughly 43 in 100.\n",
    "The rate is {number_of_adoptions} pet adoptions per {number_of_intakes} pets, or {round(ratio_incoming_vs_adopted * 100)}%''')"
   ]
  },
  {
   "cell_type": "markdown",
   "id": "dd5dd541-546f-4b15-9d62-56395dd3a37f",
   "metadata": {},
   "source": [
    "#### 4. What is the distribution of the types of animals in the shelter?\n",
    "\n",
    "Find the count of each type of animal in the shelter."
   ]
  },
  {
   "cell_type": "code",
   "execution_count": 32,
   "id": "f5d85b44-61fc-455c-a587-3a3ea563431d",
   "metadata": {},
   "outputs": [
    {
     "name": "stdout",
     "output_type": "stream",
     "text": [
      "FINAL ANSWER:\n",
      "animal_type\n",
      "Dog          63054\n",
      "Cat          32246\n",
      "Other         4447\n",
      "Bird           340\n",
      "Livestock        9\n",
      "dtype: int64\n"
     ]
    }
   ],
   "source": [
    "# Group by animal_type and sort the values\n",
    "q4_result = combined_deduped_data.groupby('animal_type').size().sort_values(ascending=False)\n",
    "print(f\"FINAL ANSWER:\\n{q4_result}\")\n",
    "#\n",
    "# NOTE: describe() also shows the number of `unique` `animal_type` values\n",
    "# and the `top` value of `Dog` with a `freq` value which match the findings.\n",
    "# combined_deduped_data.describe(datetime_is_numeric=True, include='all')\n",
    "#"
   ]
  },
  {
   "cell_type": "code",
   "execution_count": 33,
   "id": "4ef66741-b768-40e8-889d-81726d9c80be",
   "metadata": {},
   "outputs": [
    {
     "data": {
      "image/png": "[encoded data removed]",
      "text/plain": [
       "<Figure size 1200x600 with 1 Axes>"
      ]
     },
     "metadata": {},
     "output_type": "display_data"
    }
   ],
   "source": [
    "# Plot the findings to make them more obvious\n",
    "chrt = q4_result.plot(kind='bar', figsize=(12, 6), color=\"#0d47a1\", use_index=True, lw=3, rot=False, picker=True)\n",
    "chrt.set_title('Type of Animal Intakes', fontsize=15, fontweight=\"bold\")\n",
    "chrt.set_xlabel('Animal Type', fontsize=16)\n",
    "chrt.set_ylabel('Number of Intakes', fontsize=15)\n",
    "chrt.tick_params(colors='#1976d2', which='both', direction='inout', length=6, width=\"3\", labelsize=\"12\")\n",
    "chrt.grid(True, ls=\"dashed\", lw=\".75\")\n",
    "chrt.set_facecolor('#e3f2fd')"
   ]
  },
  {
   "cell_type": "markdown",
   "id": "e17e2dfa-339c-4a44-bf94-da104bd6f44d",
   "metadata": {},
   "source": [
    "#### 5. What are the adoption rates for specific breeds?\n",
    "\n",
    "Find the top 5 dog breeds in the shelter (based on count) and then find the adoption percentage of each breed."
   ]
  },
  {
   "cell_type": "code",
   "execution_count": 496,
   "id": "64dc8e5e-b6e1-4cde-acb2-9156ba1d579a",
   "metadata": {},
   "outputs": [
    {
     "name": "stdout",
     "output_type": "stream",
     "text": [
      "FINAL ANSWER:\n"
     ]
    },
    {
     "data": {
      "text/html": [
       "<div>\n",
       "<style scoped>\n",
       "    .dataframe tbody tr th:only-of-type {\n",
       "        vertical-align: middle;\n",
       "    }\n",
       "\n",
       "    .dataframe tbody tr th {\n",
       "        vertical-align: top;\n",
       "    }\n",
       "\n",
       "    .dataframe thead th {\n",
       "        text-align: right;\n",
       "    }\n",
       "</style>\n",
       "<table border=\"1\" class=\"dataframe\">\n",
       "  <thead>\n",
       "    <tr style=\"text-align: right;\">\n",
       "      <th></th>\n",
       "      <th>adopted_dog_breed_names</th>\n",
       "      <th>number_of_adoptions</th>\n",
       "      <th>adoption_rate</th>\n",
       "      <th>adoption_ratio_per_total_adoptions</th>\n",
       "    </tr>\n",
       "  </thead>\n",
       "  <tbody>\n",
       "    <tr>\n",
       "      <th>0</th>\n",
       "      <td>Pit Bull Mix</td>\n",
       "      <td>3710</td>\n",
       "      <td>8.58</td>\n",
       "      <td>3710 : 43254</td>\n",
       "    </tr>\n",
       "    <tr>\n",
       "      <th>1</th>\n",
       "      <td>Labrador Retriever Mix</td>\n",
       "      <td>3160</td>\n",
       "      <td>7.31</td>\n",
       "      <td>3160 : 43254</td>\n",
       "    </tr>\n",
       "    <tr>\n",
       "      <th>2</th>\n",
       "      <td>Chihuahua Shorthair Mix</td>\n",
       "      <td>2781</td>\n",
       "      <td>6.43</td>\n",
       "      <td>2781 : 43254</td>\n",
       "    </tr>\n",
       "    <tr>\n",
       "      <th>3</th>\n",
       "      <td>German Shepherd Mix</td>\n",
       "      <td>1323</td>\n",
       "      <td>3.06</td>\n",
       "      <td>1323 : 43254</td>\n",
       "    </tr>\n",
       "    <tr>\n",
       "      <th>4</th>\n",
       "      <td>Australian Cattle Dog Mix</td>\n",
       "      <td>822</td>\n",
       "      <td>1.90</td>\n",
       "      <td>822 : 43254</td>\n",
       "    </tr>\n",
       "  </tbody>\n",
       "</table>\n",
       "</div>"
      ],
      "text/plain": [
       "     adopted_dog_breed_names  number_of_adoptions  adoption_rate  \\\n",
       "0               Pit Bull Mix                 3710           8.58   \n",
       "1     Labrador Retriever Mix                 3160           7.31   \n",
       "2    Chihuahua Shorthair Mix                 2781           6.43   \n",
       "3        German Shepherd Mix                 1323           3.06   \n",
       "4  Australian Cattle Dog Mix                  822           1.90   \n",
       "\n",
       "  adoption_ratio_per_total_adoptions  \n",
       "0                       3710 : 43254  \n",
       "1                       3160 : 43254  \n",
       "2                       2781 : 43254  \n",
       "3                       1323 : 43254  \n",
       "4                        822 : 43254  "
      ]
     },
     "execution_count": 496,
     "metadata": {},
     "output_type": "execute_result"
    }
   ],
   "source": [
    "# Note adopted_animals was defined previously\n",
    "\n",
    "# Get total number of adopted pets to use in calculating rate\n",
    "total_adopted_animals = len(adopted_animals)\n",
    "\n",
    "# Create a new DataFrame of just adopted dogs\n",
    "adopted_dogs = adopted_animals.loc[adopted_animals.animal_type == \"Dog\"]\n",
    "\n",
    "# Check the results so far, make sure animal_type is Dog and outcome_type is Adoption\n",
    "# adopted_dogs.head(20)\n",
    "\n",
    "# Group adopted dogs by breed and get the top 5\n",
    "top_5_adopted_dog_breeds = adopted_dogs.groupby('breed').size().sort_values(ascending=False).head(5)\n",
    "# Note this returns a Series\n",
    "# type(top_5_adopted_dog_breeds)\n",
    "\n",
    "# Create a DataFrame from the Series and give it a default index column\n",
    "top_5_adopted_dog_breeds_df = pd.DataFrame(top_5_adopted_dog_breeds).reset_index()\n",
    "\n",
    "# Rename the column labels\n",
    "top_5_adopted_dog_breeds_df.columns =['adopted_dog_breed_names', 'number_of_adoptions']\n",
    "\n",
    "# Add a column with the calculated adoption rate of the breed\n",
    "# Adoption rate is a percentage of adoptions for the breed compared to overall animal adoptions\n",
    "top_5_adopted_dog_breeds_df['adoption_rate'] = round(top_5_adopted_dog_breeds_df.number_of_adoptions.mul(100) / total_adopted_animals, 2)\n",
    "\n",
    "# Add a column with the calculated adoption ratio of the breed\n",
    "top_5_adopted_dog_breeds_df['adoption_ratio_per_total_adoptions'] = top_5_adopted_dog_breeds_df.number_of_adoptions.map(str) + ' : ' + f'{total_adopted_animals}'\n",
    "\n",
    "print(f\"FINAL ANSWER:\")\n",
    "top_5_adopted_dog_breeds_df"
   ]
  },
  {
   "cell_type": "code",
   "execution_count": 474,
   "id": "e55ca533-3a76-45a1-b3ae-9e5cec7982ca",
   "metadata": {},
   "outputs": [
    {
     "data": {
      "image/png": "[encoded data removed]",
      "text/plain": [
       "<Figure size 1152x432 with 1 Axes>"
      ]
     },
     "metadata": {
      "needs_background": "light"
     },
     "output_type": "display_data"
    }
   ],
   "source": [
    "# Plot the findings to make them more obvious\n",
    "chrt = top_5_adopted_dog_breeds.plot(kind='bar', figsize=(16, 6), color=\"#0d47a1\", use_index=True, lw=3, rot=False, picker=True)\n",
    "chrt.set_title('Relative Adoption Rates for Top 5 Dog Breeds', fontsize=15, fontweight=\"bold\")\n",
    "chrt.set_xlabel('Dog Breed', fontsize=16)\n",
    "chrt.set_ylabel('Adoption Rate', fontsize=15)\n",
    "chrt.tick_params(colors='#1976d2', which='both', direction='inout', length=6, width=\"3\", labelsize=\"12\")\n",
    "chrt.grid(True, ls=\"dashed\", lw=\".75\")\n",
    "chrt.set_facecolor('#e3f2fd')"
   ]
  },
  {
   "cell_type": "markdown",
   "id": "c5fa08be-9ca0-442c-9a55-3d70e01d4ce5",
   "metadata": {},
   "source": [
    "---"
   ]
  },
  {
   "cell_type": "markdown",
   "id": "d5b88ed0-40cb-446b-91de-a1a86c4f01bc",
   "metadata": {},
   "source": [
    "#### 6. What are the adoption rates for different colorings?\n",
    "\n",
    "Find the top 5 colorings in the shelter (based on count) and then find the adoption percentage of each color."
   ]
  },
  {
   "cell_type": "code",
   "execution_count": 477,
   "id": "0ca281f9-570f-413e-8e25-49683a87db11",
   "metadata": {},
   "outputs": [
    {
     "name": "stdout",
     "output_type": "stream",
     "text": [
      "FINAL ANSWER:\n"
     ]
    },
    {
     "data": {
      "text/html": [
       "<div>\n",
       "<style scoped>\n",
       "    .dataframe tbody tr th:only-of-type {\n",
       "        vertical-align: middle;\n",
       "    }\n",
       "\n",
       "    .dataframe tbody tr th {\n",
       "        vertical-align: top;\n",
       "    }\n",
       "\n",
       "    .dataframe thead th {\n",
       "        text-align: right;\n",
       "    }\n",
       "</style>\n",
       "<table border=\"1\" class=\"dataframe\">\n",
       "  <thead>\n",
       "    <tr style=\"text-align: right;\">\n",
       "      <th></th>\n",
       "      <th>color</th>\n",
       "      <th>number_of_adoptions</th>\n",
       "      <th>adoption_rate</th>\n",
       "      <th>adoption_ratio_per_total_adoptions</th>\n",
       "    </tr>\n",
       "  </thead>\n",
       "  <tbody>\n",
       "    <tr>\n",
       "      <th>0</th>\n",
       "      <td>Black/White</td>\n",
       "      <td>4980</td>\n",
       "      <td>11.51</td>\n",
       "      <td>4980 : 43254</td>\n",
       "    </tr>\n",
       "    <tr>\n",
       "      <th>1</th>\n",
       "      <td>Black</td>\n",
       "      <td>3229</td>\n",
       "      <td>7.47</td>\n",
       "      <td>3229 : 43254</td>\n",
       "    </tr>\n",
       "    <tr>\n",
       "      <th>2</th>\n",
       "      <td>Brown Tabby</td>\n",
       "      <td>2116</td>\n",
       "      <td>4.89</td>\n",
       "      <td>2116 : 43254</td>\n",
       "    </tr>\n",
       "    <tr>\n",
       "      <th>3</th>\n",
       "      <td>Tan/White</td>\n",
       "      <td>1638</td>\n",
       "      <td>3.79</td>\n",
       "      <td>1638 : 43254</td>\n",
       "    </tr>\n",
       "    <tr>\n",
       "      <th>4</th>\n",
       "      <td>Brown/White</td>\n",
       "      <td>1577</td>\n",
       "      <td>3.65</td>\n",
       "      <td>1577 : 43254</td>\n",
       "    </tr>\n",
       "  </tbody>\n",
       "</table>\n",
       "</div>"
      ],
      "text/plain": [
       "         color  number_of_adoptions  adoption_rate  \\\n",
       "0  Black/White                 4980          11.51   \n",
       "1        Black                 3229           7.47   \n",
       "2  Brown Tabby                 2116           4.89   \n",
       "3    Tan/White                 1638           3.79   \n",
       "4  Brown/White                 1577           3.65   \n",
       "\n",
       "  adoption_ratio_per_total_adoptions  \n",
       "0                       4980 : 43254  \n",
       "1                       3229 : 43254  \n",
       "2                       2116 : 43254  \n",
       "3                       1638 : 43254  \n",
       "4                       1577 : 43254  "
      ]
     },
     "execution_count": 477,
     "metadata": {},
     "output_type": "execute_result"
    }
   ],
   "source": [
    "# Note adopted_animals and total_adopted_animals was defined previously\n",
    "\n",
    "# Group colorings and get the top 5\n",
    "top_5_colors = adopted_animals.groupby('color').size().sort_values(ascending=False).head(5)\n",
    "\n",
    "# Create a DataFrame from the Series and give it a default index column\n",
    "top_5_colors_df = pd.DataFrame(top_5_colors).reset_index()\n",
    "\n",
    "# Rename the column labels\n",
    "top_5_colors_df.columns =['color', 'number_of_adoptions']\n",
    "\n",
    "# Add a column with the calculated adoption rate of the breed\n",
    "# Adoption rate is a percentage of adoptions for the breed compared to overall animal adoptions\n",
    "top_5_colors_df['adoption_rate'] = round(top_5_colors_df['number_of_adoptions'].mul(100) / total_adopted_animals, 2)\n",
    "\n",
    "# Add a column with the calculated adoption ratio of the breed\n",
    "top_5_colors_df['adoption_ratio_per_total_adoptions'] = top_5_colors_df.number_of_adoptions.map(str) + ' : ' + f'{total_adopted_animals}'\n",
    "\n",
    "print(f\"FINAL ANSWER:\")\n",
    "top_5_colors_df"
   ]
  },
  {
   "cell_type": "code",
   "execution_count": 37,
   "id": "7a87b5d9-a541-435b-a4a3-5204b529ba73",
   "metadata": {
    "collapsed": true,
    "jupyter": {
     "outputs_hidden": true,
     "source_hidden": true
    },
    "tags": []
   },
   "outputs": [
    {
     "data": {
      "image/png": "[encoded data removed]",
      "text/plain": [
       "<Figure size 1600x600 with 1 Axes>"
      ]
     },
     "metadata": {},
     "output_type": "display_data"
    }
   ],
   "source": [
    "# Plot the findings to make them more obvious\n",
    "chrt = top_5_colors.plot(kind='bar', figsize=(16, 6), color=\"#0d47a1\", use_index=True, lw=3, rot=False, picker=True)\n",
    "chrt.set_title('Relative Adoption Rates for Top 5 Coloring', fontsize=15, fontweight=\"bold\")\n",
    "chrt.set_xlabel('Color', fontsize=16)\n",
    "chrt.set_ylabel('Adoption Rate', fontsize=15)\n",
    "chrt.tick_params(colors='#1976d2', which='both', direction='inout', length=6, width=\"3\", labelsize=\"12\")\n",
    "chrt.grid(True, ls=\"dashed\", lw=\".75\")\n",
    "chrt.set_facecolor('#e3f2fd')"
   ]
  },
  {
   "cell_type": "markdown",
   "id": "261bdefb-993f-462f-8a07-614cb0d6300a",
   "metadata": {},
   "source": [
    "---"
   ]
  },
  {
   "cell_type": "markdown",
   "id": "351ce431-d846-4e15-83db-1057ebba502d",
   "metadata": {},
   "source": [
    "#### 7. About how many animals are spayed/neutered each month?\n",
    "\n",
    "This will help the shelter allocate resources and staff. Assume that all intact males and females will be spayed/neutered."
   ]
  },
  {
   "cell_type": "code",
   "execution_count": 491,
   "id": "7d374f3f-52a5-4196-a136-61bd3d732126",
   "metadata": {
    "tags": []
   },
   "outputs": [
    {
     "name": "stdout",
     "output_type": "stream",
     "text": [
      "FINAL ANSWER:\n",
      "intake_year_month\n",
      "2013-10    1191\n",
      "2013-11     933\n",
      "2013-12     864\n",
      "2014-01     882\n",
      "2014-02     780\n",
      "2014-03     915\n",
      "2014-04    1063\n",
      "2014-05    1521\n",
      "2014-06    1335\n",
      "2014-07    1452\n",
      "2014-08    1229\n",
      "2014-09    1263\n",
      "2014-10    1147\n",
      "2014-11     998\n",
      "2014-12     878\n",
      "2015-01     831\n",
      "2015-02     724\n",
      "2015-03     814\n",
      "2015-04     911\n",
      "2015-05    1446\n",
      "2015-06    1616\n",
      "2015-07    1153\n",
      "2015-08    1163\n",
      "2015-09    1104\n",
      "2015-10    1193\n",
      "2015-11     996\n",
      "2015-12     757\n",
      "2016-01     819\n",
      "2016-02     780\n",
      "2016-03     812\n",
      "2016-04     989\n",
      "2016-05    1436\n",
      "2016-06    1198\n",
      "2016-07    1018\n",
      "2016-08    1204\n",
      "2016-09    1071\n",
      "2016-10     933\n",
      "2016-11    1011\n",
      "2016-12     947\n",
      "2017-01     827\n",
      "2017-02     783\n",
      "2017-03     830\n",
      "2017-04    1017\n",
      "2017-05    1365\n",
      "2017-06    1397\n",
      "2017-07    1152\n",
      "2017-08    1034\n",
      "2017-09    1209\n",
      "2017-10     956\n",
      "2017-11     804\n",
      "2017-12     728\n",
      "2018-01     746\n",
      "2018-02     643\n",
      "2018-03     490\n",
      "Freq: M, dtype: int64\n",
      "\n",
      "Interesting table solution found:\n"
     ]
    },
    {
     "data": {
      "text/html": [
       "<div>\n",
       "<style scoped>\n",
       "    .dataframe tbody tr th:only-of-type {\n",
       "        vertical-align: middle;\n",
       "    }\n",
       "\n",
       "    .dataframe tbody tr th {\n",
       "        vertical-align: top;\n",
       "    }\n",
       "\n",
       "    .dataframe thead th {\n",
       "        text-align: right;\n",
       "    }\n",
       "</style>\n",
       "<table border=\"1\" class=\"dataframe\">\n",
       "  <thead>\n",
       "    <tr style=\"text-align: right;\">\n",
       "      <th>datetime_intake_year</th>\n",
       "      <th>2013</th>\n",
       "      <th>2014</th>\n",
       "      <th>2015</th>\n",
       "      <th>2016</th>\n",
       "      <th>2017</th>\n",
       "      <th>2018</th>\n",
       "      <th>Average</th>\n",
       "    </tr>\n",
       "    <tr>\n",
       "      <th>datetime_intake_month</th>\n",
       "      <th></th>\n",
       "      <th></th>\n",
       "      <th></th>\n",
       "      <th></th>\n",
       "      <th></th>\n",
       "      <th></th>\n",
       "      <th></th>\n",
       "    </tr>\n",
       "  </thead>\n",
       "  <tbody>\n",
       "    <tr>\n",
       "      <th>January</th>\n",
       "      <td>NaN</td>\n",
       "      <td>882.0</td>\n",
       "      <td>831.0</td>\n",
       "      <td>819.0</td>\n",
       "      <td>827.0</td>\n",
       "      <td>746.0</td>\n",
       "      <td>821.0</td>\n",
       "    </tr>\n",
       "    <tr>\n",
       "      <th>February</th>\n",
       "      <td>NaN</td>\n",
       "      <td>780.0</td>\n",
       "      <td>724.0</td>\n",
       "      <td>780.0</td>\n",
       "      <td>783.0</td>\n",
       "      <td>643.0</td>\n",
       "      <td>742.0</td>\n",
       "    </tr>\n",
       "    <tr>\n",
       "      <th>March</th>\n",
       "      <td>NaN</td>\n",
       "      <td>915.0</td>\n",
       "      <td>814.0</td>\n",
       "      <td>812.0</td>\n",
       "      <td>830.0</td>\n",
       "      <td>490.0</td>\n",
       "      <td>772.0</td>\n",
       "    </tr>\n",
       "    <tr>\n",
       "      <th>April</th>\n",
       "      <td>NaN</td>\n",
       "      <td>1063.0</td>\n",
       "      <td>911.0</td>\n",
       "      <td>989.0</td>\n",
       "      <td>1017.0</td>\n",
       "      <td>NaN</td>\n",
       "      <td>995.0</td>\n",
       "    </tr>\n",
       "    <tr>\n",
       "      <th>May</th>\n",
       "      <td>NaN</td>\n",
       "      <td>1521.0</td>\n",
       "      <td>1446.0</td>\n",
       "      <td>1436.0</td>\n",
       "      <td>1365.0</td>\n",
       "      <td>NaN</td>\n",
       "      <td>1442.0</td>\n",
       "    </tr>\n",
       "    <tr>\n",
       "      <th>June</th>\n",
       "      <td>NaN</td>\n",
       "      <td>1335.0</td>\n",
       "      <td>1616.0</td>\n",
       "      <td>1198.0</td>\n",
       "      <td>1397.0</td>\n",
       "      <td>NaN</td>\n",
       "      <td>1386.0</td>\n",
       "    </tr>\n",
       "    <tr>\n",
       "      <th>July</th>\n",
       "      <td>NaN</td>\n",
       "      <td>1452.0</td>\n",
       "      <td>1153.0</td>\n",
       "      <td>1018.0</td>\n",
       "      <td>1152.0</td>\n",
       "      <td>NaN</td>\n",
       "      <td>1194.0</td>\n",
       "    </tr>\n",
       "    <tr>\n",
       "      <th>August</th>\n",
       "      <td>NaN</td>\n",
       "      <td>1229.0</td>\n",
       "      <td>1163.0</td>\n",
       "      <td>1204.0</td>\n",
       "      <td>1034.0</td>\n",
       "      <td>NaN</td>\n",
       "      <td>1158.0</td>\n",
       "    </tr>\n",
       "    <tr>\n",
       "      <th>September</th>\n",
       "      <td>NaN</td>\n",
       "      <td>1263.0</td>\n",
       "      <td>1104.0</td>\n",
       "      <td>1071.0</td>\n",
       "      <td>1209.0</td>\n",
       "      <td>NaN</td>\n",
       "      <td>1162.0</td>\n",
       "    </tr>\n",
       "    <tr>\n",
       "      <th>October</th>\n",
       "      <td>1191.0</td>\n",
       "      <td>1147.0</td>\n",
       "      <td>1193.0</td>\n",
       "      <td>933.0</td>\n",
       "      <td>956.0</td>\n",
       "      <td>NaN</td>\n",
       "      <td>1084.0</td>\n",
       "    </tr>\n",
       "    <tr>\n",
       "      <th>November</th>\n",
       "      <td>933.0</td>\n",
       "      <td>998.0</td>\n",
       "      <td>996.0</td>\n",
       "      <td>1011.0</td>\n",
       "      <td>804.0</td>\n",
       "      <td>NaN</td>\n",
       "      <td>948.0</td>\n",
       "    </tr>\n",
       "    <tr>\n",
       "      <th>December</th>\n",
       "      <td>864.0</td>\n",
       "      <td>878.0</td>\n",
       "      <td>757.0</td>\n",
       "      <td>947.0</td>\n",
       "      <td>728.0</td>\n",
       "      <td>NaN</td>\n",
       "      <td>835.0</td>\n",
       "    </tr>\n",
       "  </tbody>\n",
       "</table>\n",
       "</div>"
      ],
      "text/plain": [
       "datetime_intake_year     2013    2014    2015    2016    2017   2018  Average\n",
       "datetime_intake_month                                                        \n",
       "January                   NaN   882.0   831.0   819.0   827.0  746.0    821.0\n",
       "February                  NaN   780.0   724.0   780.0   783.0  643.0    742.0\n",
       "March                     NaN   915.0   814.0   812.0   830.0  490.0    772.0\n",
       "April                     NaN  1063.0   911.0   989.0  1017.0    NaN    995.0\n",
       "May                       NaN  1521.0  1446.0  1436.0  1365.0    NaN   1442.0\n",
       "June                      NaN  1335.0  1616.0  1198.0  1397.0    NaN   1386.0\n",
       "July                      NaN  1452.0  1153.0  1018.0  1152.0    NaN   1194.0\n",
       "August                    NaN  1229.0  1163.0  1204.0  1034.0    NaN   1158.0\n",
       "September                 NaN  1263.0  1104.0  1071.0  1209.0    NaN   1162.0\n",
       "October                1191.0  1147.0  1193.0   933.0   956.0    NaN   1084.0\n",
       "November                933.0   998.0   996.0  1011.0   804.0    NaN    948.0\n",
       "December                864.0   878.0   757.0   947.0   728.0    NaN    835.0"
      ]
     },
     "execution_count": 491,
     "metadata": {},
     "output_type": "execute_result"
    }
   ],
   "source": [
    "# Select all animals with `intact` in their `sex_upon_intake` value\n",
    "# Docs for str.contains(): https://pandas.pydata.org/docs/reference/api/pandas.Series.str.contains.html\n",
    "intact_intake_animals = combined_deduped_data.loc[combined_deduped_data['sex_upon_intake'].str.contains('Intact', case=False, na=False)]\n",
    "# Check the type\n",
    "# type(intact_intake_animals)\n",
    "# Check the result\n",
    "# intact_intake_animals.head()\n",
    "\n",
    "q7_result = grouped_by_year_and_month = intact_intake_animals.groupby('intake_year_month').size()\n",
    "\n",
    "print(f\"FINAL ANSWER:\\n{q7_result}\")\n",
    "\n",
    "print(\"\\nInteresting table solution found:\")\n",
    "# Ref: https://github.com/hkvenner/pet-shelter-analysis/blob/main/pet_shelter_analysis.ipynb\n",
    "table_df = pd.pivot_table(intact_intake_animals, values='animal_id', index=['datetime_intake_month'],\n",
    "                    columns=['datetime_intake_year'], aggfunc='count')\n",
    "#Finds the average number of intakes per month over the years\n",
    "table_df['Average'] = table_df.mean(axis = 1)\n",
    "# Rename the months with month names instead of numbers\n",
    "table_df = table_df.rename(index={1: 'January', 2: 'February', 3: 'March', 4: 'April', 5: 'May', 6: 'June'})\n",
    "table_df = table_df.rename(index={7: 'July', 8: 'August', 9: 'September', 10: 'October', 11: 'November', 12: 'December'})\n",
    "table_df.round()"
   ]
  },
  {
   "cell_type": "code",
   "execution_count": 521,
   "id": "f8747862-6a9a-499b-ac69-17cd678b0c05",
   "metadata": {
    "tags": []
   },
   "outputs": [
    {
     "data": {
      "image/png": "[encoded data removed]",
      "text/plain": [
       "<Figure size 1512x432 with 1 Axes>"
      ]
     },
     "metadata": {
      "needs_background": "light"
     },
     "output_type": "display_data"
    }
   ],
   "source": [
    "# Plot the findings to make them more obvious\n",
    "chrt = q7_result.plot(kind='bar', figsize=(21, 6), color=\"#0d47a1\", use_index=True, lw=3, picker=True)\n",
    "chrt.set_title('Monthly Count Of Intact Animals To Be Spayed/Neutered', fontsize=15, fontweight=\"bold\")\n",
    "chrt.set_xlabel('Months', fontsize=16)\n",
    "chrt.set_ylabel('Intact Intakes', fontsize=15)\n",
    "chrt.tick_params(colors='#1976d2', which='both', direction='inout', length=6, width=\"3\", labelsize=\"12\")\n",
    "chrt.grid(True, ls=\"dashed\", lw=\".75\")\n",
    "chrt.set_facecolor('#e3f2fd')"
   ]
  },
  {
   "cell_type": "markdown",
   "id": "1b92e05d-add2-4748-ad2c-cf72c1586049",
   "metadata": {},
   "source": [
    "<div style=\"text-align: right\"><a href=\"#top-of-notebook\">Back to top</a></div>"
   ]
  },
  {
   "cell_type": "markdown",
   "id": "7612b795-dc5b-494b-88ab-ec6780a9676e",
   "metadata": {},
   "source": [
    "---"
   ]
  },
  {
   "cell_type": "markdown",
   "id": "d3673b2b-bac8-437c-8e21-0553908d0e95",
   "metadata": {
    "tags": []
   },
   "source": [
    "### Solutions for Exceeds Rating"
   ]
  },
  {
   "cell_type": "markdown",
   "id": "44b908bc-0dc3-412d-b740-f97d1471a1eb",
   "metadata": {},
   "source": [
    "---"
   ]
  },
  {
   "cell_type": "markdown",
   "id": "db2f160e-a745-421c-ba98-f93fe6742963",
   "metadata": {
    "tags": []
   },
   "source": [
    "#### 1. How many animals in the shelter are repeats? Which animal was returned to the shelter the most?\n",
    "\n",
    "This means the animal has been brought in more than once."
   ]
  },
  {
   "cell_type": "code",
   "execution_count": 494,
   "id": "8d1ab4c4-9685-4aa0-9d6f-9e2c5fad233b",
   "metadata": {
    "tags": []
   },
   "outputs": [
    {
     "name": "stdout",
     "output_type": "stream",
     "text": [
      "Total number of intakes: 100096\n",
      "Total number of unique id's: 71924\n",
      "Looks like we have 28172 repeats.\n",
      "\n",
      "The highest number of visits is: 169\n",
      "\n",
      "FINAL ANSWER:\n",
      "28172 animals are repeat visitors to the shelter.\n",
      "The animal that most returned to the shelter is:\n",
      "      \tanimal_id: A721033\n",
      "      \tname: \"Lil Bit\"\n",
      "      \tnumber of visits: 169\n"
     ]
    }
   ],
   "source": [
    "#\n",
    "# NOTE: describe() also shows the `top` value for `animal_id` \n",
    "# and number of times the value occurs as `freq`.\n",
    "# combined_deduped_data.describe(datetime_is_numeric=True, include='all')\n",
    "#\n",
    "\n",
    "# Sanity check total number of records exceeds total number of unique animal IDs\n",
    "total_animal_intakes = len(combined_deduped_data)\n",
    "unique_ids = combined_deduped_data.animal_id.nunique()\n",
    "print(f\"Total number of intakes: {total_animal_intakes}\")\n",
    "print(f\"Total number of unique id's: {unique_ids}\")\n",
    "print(f\"Looks like we have {total_animal_intakes - unique_ids} repeats.\")\n",
    "\n",
    "# Get repeats using groupby\n",
    "repeats = combined_deduped_data.groupby(['animal_id']).size().sort_values(ascending=False).head(5)\n",
    "# Alternate way to get repeats using a pivot table\n",
    "# repeats = combined_deduped_data.pivot_table(columns=['animal_id'], aggfunc='size').sort_values(ascending=False).head(5)\n",
    "# print(f\"\\n{repeats}\")\n",
    "\n",
    "# I can also confirm the highest value by accessing a third way.\n",
    "# Note the value_counts() method returns a Series containing counts of unique values\n",
    "# in descending order so that the first element is the most frequently-occurring.\n",
    "# Docs: https://pandas.pydata.org/docs/reference/api/pandas.Series.value_counts.html\n",
    "highest_number_of_visits = combined_deduped_data.animal_id.value_counts().iloc[0]\n",
    "print(f\"\\nThe highest number of visits is: {highest_number_of_visits}\")\n",
    "\n",
    "# Get the #1 most repeated animal (at index[0])\n",
    "most_repeated_animal_id = repeats.index[0]\n",
    "# Get the row for the most repeated animal\n",
    "most_repeated_animal = combined_deduped_data.loc[combined_deduped_data['animal_id'] == most_repeated_animal_id]\n",
    "\n",
    "print(f\"\\nFINAL ANSWER:\\n{total_animal_intakes - unique_ids} animals are repeat visitors to the shelter.\")\n",
    "print(f'''The animal that most returned to the shelter is:\n",
    "      \\tanimal_id: {most_repeated_animal_id}\n",
    "      \\tname: \"{most_repeated_animal['name'].iloc[0]}\"\n",
    "      \\tnumber of visits: {highest_number_of_visits}''')"
   ]
  },
  {
   "cell_type": "markdown",
   "id": "158a1227-2067-431e-80c9-0f7ad51a9921",
   "metadata": {},
   "source": [
    "---"
   ]
  },
  {
   "cell_type": "markdown",
   "id": "ee9209d7-1fe7-4eea-843b-8130155a596b",
   "metadata": {
    "tags": []
   },
   "source": [
    "#### 2. What are the adoption rates for the following age groups?\n",
    "\n",
    "* baby: 4 months and less\n",
    "* young: 5 months - 2 years\n",
    "* adult: 3 years - 10 years\n",
    "* senior: 11+ years"
   ]
  },
  {
   "cell_type": "code",
   "execution_count": 510,
   "id": "00409e37-5c61-4429-b8e5-fff6d7ffd83d",
   "metadata": {},
   "outputs": [
    {
     "name": "stdout",
     "output_type": "stream",
     "text": [
      "FINAL ANSWER:\n"
     ]
    },
    {
     "data": {
      "text/html": [
       "<div>\n",
       "<style scoped>\n",
       "    .dataframe tbody tr th:only-of-type {\n",
       "        vertical-align: middle;\n",
       "    }\n",
       "\n",
       "    .dataframe tbody tr th {\n",
       "        vertical-align: top;\n",
       "    }\n",
       "\n",
       "    .dataframe thead th {\n",
       "        text-align: right;\n",
       "    }\n",
       "</style>\n",
       "<table border=\"1\" class=\"dataframe\">\n",
       "  <thead>\n",
       "    <tr style=\"text-align: right;\">\n",
       "      <th></th>\n",
       "      <th>number_of_adoptions</th>\n",
       "      <th>adoption_rate</th>\n",
       "      <th>adoption_ratio_per_total_adoptions</th>\n",
       "    </tr>\n",
       "    <tr>\n",
       "      <th>age_group</th>\n",
       "      <th></th>\n",
       "      <th></th>\n",
       "      <th></th>\n",
       "    </tr>\n",
       "  </thead>\n",
       "  <tbody>\n",
       "    <tr>\n",
       "      <th>Baby: 4 months and less</th>\n",
       "      <td>14629</td>\n",
       "      <td>33.82</td>\n",
       "      <td>14629 : 43254</td>\n",
       "    </tr>\n",
       "    <tr>\n",
       "      <th>Young: 5 months to 2 years</th>\n",
       "      <td>19417</td>\n",
       "      <td>44.89</td>\n",
       "      <td>19417 : 43254</td>\n",
       "    </tr>\n",
       "    <tr>\n",
       "      <th>Adult: 3 to 10 years</th>\n",
       "      <td>8632</td>\n",
       "      <td>19.96</td>\n",
       "      <td>8632 : 43254</td>\n",
       "    </tr>\n",
       "    <tr>\n",
       "      <th>Senior: 11 years plus</th>\n",
       "      <td>576</td>\n",
       "      <td>1.33</td>\n",
       "      <td>576 : 43254</td>\n",
       "    </tr>\n",
       "  </tbody>\n",
       "</table>\n",
       "</div>"
      ],
      "text/plain": [
       "                            number_of_adoptions  adoption_rate  \\\n",
       "age_group                                                        \n",
       "Baby: 4 months and less                   14629          33.82   \n",
       "Young: 5 months to 2 years                19417          44.89   \n",
       "Adult: 3 to 10 years                       8632          19.96   \n",
       "Senior: 11 years plus                       576           1.33   \n",
       "\n",
       "                           adoption_ratio_per_total_adoptions  \n",
       "age_group                                                      \n",
       "Baby: 4 months and less                         14629 : 43254  \n",
       "Young: 5 months to 2 years                      19417 : 43254  \n",
       "Adult: 3 to 10 years                             8632 : 43254  \n",
       "Senior: 11 years plus                             576 : 43254  "
      ]
     },
     "execution_count": 510,
     "metadata": {},
     "output_type": "execute_result"
    }
   ],
   "source": [
    "# Function to covert an age string to a year float\n",
    "def convert_intake_age_to_years(age):\n",
    "    \"\"\"Function to convert intake age string to a year value\"\"\"\n",
    "    # Split age, such as '4 weeks' into two values, like ['4', 'weeks']\n",
    "    age_split = age.split(' ')\n",
    "    # Get the first value, and convert it to an integer\n",
    "    numerator = int(age_split[0])\n",
    "    # Test if the second value.\n",
    "    # This will catch both plural and singular values,\n",
    "    # like 'day' and 'days' and convert to years.\n",
    "    if age_split[1].startswith('day'):\n",
    "        return numerator / 365\n",
    "    elif age_split[1].startswith('week'):\n",
    "        return numerator / 52\n",
    "    elif age_split[1].startswith('month'):\n",
    "        return numerator / 12\n",
    "    elif age_split[1].startswith('year'):\n",
    "        return numerator\n",
    "    else:\n",
    "        # If we get here, we have an unexpected value.\n",
    "        # Could just return 0 instead of raising an error, perhaps.\n",
    "        raise ValueError(f\"Unexpected value: {age_split[1]}\")\n",
    "\n",
    "# Use a boolean Series to select the animals with Adoption outcomes and creat a new DataFrame\n",
    "# TODO: Try to re-use adopted_animals defined in question 5\n",
    "all_adopted_animals = combined_deduped_data.loc[combined_deduped_data.outcome_type == \"Adoption\"].copy()\n",
    "# Check the results\n",
    "# all_adopted_animals.head()\n",
    "\n",
    "# In the new DataFrame, create a new column named 'intake_age_in_years' and use apply()\n",
    "# to populate it with the value returned from convert_intake_age_to_years()\n",
    "# apply() doc: https://pandas.pydata.org/docs/reference/api/pandas.DataFrame.apply.html\n",
    "# Alternatively could look at using .map() or .applymap() perhaps\n",
    "all_adopted_animals['intake_age_in_years'] = all_adopted_animals.age_upon_intake.apply(convert_intake_age_to_years)\n",
    "# all_adopted_animals['intake_age_in_years'] = all_adopted_animals['age_upon_intake']\n",
    "# all_adopted_animals['intake_age_in_years'] = res(all_adopted_animals['age_upon_intake'])\n",
    "# Round the decimals to 4 places, so we know what we're working with\n",
    "all_adopted_animals['intake_age_in_years'] = all_adopted_animals.intake_age_in_years.round(decimals = 4)\n",
    "# Check the result\n",
    "# type(all_adopted_animals)\n",
    "# all_adopted_animals.head(10)\n",
    "# Notice all outcome_type values are Adoption and\n",
    "# intake_age_in_years is a float with 4 decimals\n",
    "\n",
    "#\n",
    "# Second attempt - I read using a np.select() would be faster than using an apply() but\n",
    "# couldn't figure out how to get this to add a column to my all_adopted_animals df right off.\n",
    "# I'm keeping this dead code in case I might give it another try in the future.\n",
    "\n",
    "# import numpy as np\n",
    "\n",
    "# conditions = [\n",
    "#     all_adopted_animals['age_upon_intake'].str.split(expand=True)[1].str.startswith('day'),\n",
    "#     all_adopted_animals['age_upon_intake'].str.split(expand=True)[1].str.startswith('week'),\n",
    "#     all_adopted_animals['age_upon_intake'].str.split(expand=True)[1].str.startswith('month'),\n",
    "#     all_adopted_animals['age_upon_intake'].str.split(expand=True)[1].str.startswith('year'),\n",
    "# ]\n",
    "\n",
    "# outputs = [\n",
    "#     all_adopted_animals['age_upon_intake'].str.split(expand=True)[0].astype(int) / 365,\n",
    "#     all_adopted_animals['age_upon_intake'].str.split(expand=True)[0].astype(int) / 52,\n",
    "#     all_adopted_animals['age_upon_intake'].str.split(expand=True)[0].astype(int) / 12,\n",
    "#     all_adopted_animals['age_upon_intake'].str.split(expand=True)[0].astype(int),\n",
    "# ]\n",
    "\n",
    "# res = np.select(conditions, outputs, 'Other')\n",
    "# tester = pd.Series(res)\n",
    "# tester.info()\n",
    "#\n",
    "\n",
    "# TODO: I bet there is a shorter, more consise way of creating the final result,\n",
    "# but this step by step process helps explain my thinking for now.\n",
    "\n",
    "# Create new DataFrames to hold each age range group\n",
    "age_group_4_months_and_less = all_adopted_animals[all_adopted_animals.intake_age_in_years < 0.4167]\n",
    "age_group_5_months_to_2_years = all_adopted_animals[(all_adopted_animals.intake_age_in_years >= 0.4167) & (all_adopted_animals.intake_age_in_years < 3.0000)]\n",
    "age_group_3_to_10_years = all_adopted_animals[(all_adopted_animals.intake_age_in_years >= 3.0000) & (all_adopted_animals.intake_age_in_years < 11.0000)]\n",
    "age_group_11_plus = all_adopted_animals[all_adopted_animals.intake_age_in_years >= 11.0000]\n",
    "\n",
    "# Create a new dataframe with just the age group data\n",
    "d = {\n",
    "    'age_group': [\n",
    "        'Baby: 4 months and less', \n",
    "        'Young: 5 months to 2 years', \n",
    "        'Adult: 3 to 10 years', \n",
    "        'Senior: 11 years plus'\n",
    "    ], \n",
    "    'number_of_adoptions': [\n",
    "        age_group_4_months_and_less.shape[0],\n",
    "        age_group_5_months_to_2_years.shape[0],\n",
    "        age_group_3_to_10_years.shape[0],\n",
    "        age_group_11_plus.shape[0]\n",
    "    ]\n",
    "}\n",
    "age_groups_adoptions_df = pd.DataFrame(data=d)\n",
    "# Check the result\n",
    "# age_groups_adoptions_df\n",
    "\n",
    "# Add a column with the calculated adoption rate of the age group\n",
    "# Adoption rate is a percentage of total overall adoptions for all animals\n",
    "# Note total_adopted_animals was defined in question 5\n",
    "age_groups_adoptions_df['adoption_rate'] = round(age_groups_adoptions_df.number_of_adoptions.mul(100) / total_adopted_animals, 2)\n",
    "\n",
    "# Add a column with the calculated adoption ratio of the breed\n",
    "age_groups_adoptions_df['adoption_ratio_per_total_adoptions'] = age_groups_adoptions_df.number_of_adoptions.map(str) + ' : ' + f'{total_adopted_animals}'\n",
    "\n",
    "# Set the index to the age_group column\n",
    "# https://pandas.pydata.org/pandas-docs/stable/reference/api/pandas.DataFrame.set_index.html\n",
    "age_groups_adoptions_df.set_index('age_group', inplace=True)\n",
    "\n",
    "print(f\"FINAL ANSWER:\")\n",
    "age_groups_adoptions_df"
   ]
  },
  {
   "cell_type": "markdown",
   "id": "bb4e3300-735f-4e6a-bb84-1773a9e870ac",
   "metadata": {},
   "source": [
    "---"
   ]
  },
  {
   "cell_type": "markdown",
   "id": "5eed2f4a-d168-4498-94ff-4e99f8687a34",
   "metadata": {},
   "source": [
    "#### 3. If spay/neuter for a dog costs 100 dollars and a spay/neuter for a cat costs 50 dollars, how much did the shelter spend in 2015 on these procedures?"
   ]
  },
  {
   "cell_type": "markdown",
   "id": "9199cacd-a3ef-4ee0-a079-a2ea10fa1e65",
   "metadata": {},
   "source": [
    "---"
   ]
  },
  {
   "cell_type": "code",
   "execution_count": 514,
   "id": "35ee3834-4a96-41e0-9852-ba42d6298bb5",
   "metadata": {
    "tags": []
   },
   "outputs": [
    {
     "name": "stdout",
     "output_type": "stream",
     "text": [
      "FINAL ANSWER:\n",
      "Total spent on dogs: $731,800\n",
      "Total spent on dogs: $263,750\n",
      "Total spent: $995,550\n"
     ]
    }
   ],
   "source": [
    "# Create a boolean Series to select rows where animal was intact on intake in 2015\n",
    "# Note I'm evaluating the datetime_intake value instead of using the intake_year column just to see this works\n",
    "intact_intake_animals = combined_deduped_data.loc[(combined_deduped_data['sex_upon_intake'].str.contains('Intact', case=False, na=False) & (combined_deduped_data.datetime_intake >= \"2015-01-01\") & (combined_deduped_data.datetime_intake <= \"2015-12-31\"))]\n",
    "# Check the result\n",
    "# intact_intake_animals.groupby('animal_type').size()\n",
    "\n",
    "# Multiply the number of intact Dogs by $100\n",
    "total_spent_on_intact_dogs = intact_intake_animals.loc[combined_deduped_data['animal_type'] == 'Dog'].shape[0] * 100\n",
    "# Multiply the number of intact Cats by $50\n",
    "total_spent_on_intact_cats = intact_intake_animals.loc[combined_deduped_data['animal_type'] == 'Cat'].shape[0] * 50\n",
    "# Check the results\n",
    "# (total_spent_on_intact_dogs, total_spent_on_intact_cats)\n",
    "\n",
    "# Include commas for thousands separator in dollar values\n",
    "print(f'''FINAL ANSWER:\n",
    "Total spent on dogs: ${total_spent_on_intact_dogs:,d}\n",
    "Total spent on dogs: ${total_spent_on_intact_cats:,d}\n",
    "Total spent: ${(total_spent_on_intact_dogs + total_spent_on_intact_cats):,d}''')\n",
    "# combined_deduped_data.head()"
   ]
  },
  {
   "cell_type": "markdown",
   "id": "7c0e4944-0057-4ce4-96b4-bc669cc5a4f4",
   "metadata": {},
   "source": [
    "<div style=\"text-align: right\"><a href=\"#top-of-notebook\">Back to top</a></div>"
   ]
  }
 ],
 "metadata": {
  "kernelspec": {
   "display_name": "Python 3 (ipykernel)",
   "language": "python",
   "name": "python3"
  },
  "language_info": {
   "codemirror_mode": {
    "name": "ipython",
    "version": 3
   },
   "file_extension": ".py",
   "mimetype": "text/x-python",
   "name": "python",
   "nbconvert_exporter": "python",
   "pygments_lexer": "ipython3",
   "version": "3.9.12"
  },
  "vscode": {
   "interpreter": {
    "hash": "fd9241807766427ed875024eefff7f0aa663660b209427c787d8f00b4b94b324"
   }
  }
 },
 "nbformat": 4,
 "nbformat_minor": 5
}
